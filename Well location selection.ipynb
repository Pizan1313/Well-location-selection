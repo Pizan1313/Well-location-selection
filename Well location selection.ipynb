{
 "cells": [
  {
   "cell_type": "markdown",
   "metadata": {},
   "source": [
    "<h1>Table of Contents<span class=\"tocSkip\"></span></h1>\n",
    "<div class=\"toc\"><ul class=\"toc-item\"><li><span><a href=\"#Loading-and-preparing-data\" data-toc-modified-id=\"Loading-and-preparing-data-1\">Loading and preparing data</a></span><ul class=\"toc-item\"><li><span><a href=\"#Intermediate-conclusion\" data-toc-modified-id=\"Intermediate-conclusion-1.1\">Intermediate conclusion</a></span></li><li><span><a href=\"#Conclusion\" data-toc-modified-id=\"Conclusion-1.2\">Conclusion</a></span></li></ul></li><li><span><a href=\"#Model-training-and-validation\" data-toc-modified-id=\"Model-training-and-validation-2\">Model training and validation</a></span><ul class=\"toc-item\"><li><span><a href=\"#Conclusion\" data-toc-modified-id=\"Conclusion-2.1\">Conclusion</a></span></li></ul></li><li><span><a href=\"#Preparing-for-Profit-Calculation\" data-toc-modified-id=\"Preparing-for-Profit-Calculation-3\">Preparing for Profit Calculation</a></span><ul class=\"toc-item\"><li><span><a href=\"#Conclusion\" data-toc-modified-id=\"Conclusion-3.1\">Conclusion</a></span></li></ul></li><li><span><a href=\"#Calculation-of-profit-and-risks\" data-toc-modified-id=\"Calculation-of-profit-and-risks-4\">Calculation of profit and risks</a></span></li><li><span><a href=\"#Conclusion\" data-toc-modified-id=\"Conclusion-5\">Conclusion</a></span></li></ul></div>"
   ]
  },
  {
   "cell_type": "markdown",
   "metadata": {},
   "source": [
    "# Well location selection"
   ]
  },
  {
   "cell_type": "markdown",
   "metadata": {},
   "source": [
    "It is necessary to decide where to drill a new well for the production company\n",
    "\n",
    "We were provided with oil samples in three regions: in each - 10,000 fields, where we measured the quality of oil and the volume of its reserves. A machine learning model must be built to help determine the region where mining will bring the most significant profit. Analysis of possible gains and risks should be done using the *Bootstrap.* technique.\n",
    "\n",
    "Steps to choose a location:\n",
    "\n",
    "- In the selected region, a deposit is searched, and for each, the values of the features are determined;\n",
    "- Building a model and assessing the volume of reserves;\n",
    "- Search for the deposit with the highest value score. The number of fields depends on the company's budget and the cost of developing one well;\n",
    "- The profit is equal to the total profit of the selected deposits."
   ]
  },
  {
   "cell_type": "markdown",
   "metadata": {},
   "source": [
    "## Loading and preparing data"
   ]
  },
  {
   "cell_type": "code",
   "execution_count": 1,
   "metadata": {},
   "outputs": [],
   "source": [
    "import pandas as pd\n",
    "import numpy as np\n",
    "import matplotlib.pyplot as plt\n",
    "import scipy.stats as st\n",
    "\n",
    "from itertools import product\n",
    "from tqdm.notebook import tqdm\n",
    "\n",
    "from sklearn.model_selection import train_test_split\n",
    "from sklearn.preprocessing import StandardScaler\n",
    "from sklearn.utils import shuffle\n",
    "\n",
    "from sklearn.linear_model import LinearRegression\n",
    "from sklearn.metrics import mean_squared_error\n",
    "\n",
    "import warnings\n",
    "warnings.filterwarnings('ignore')"
   ]
  },
  {
   "cell_type": "code",
   "execution_count": 2,
   "metadata": {
    "scrolled": false
   },
   "outputs": [
    {
     "name": "stdout",
     "output_type": "stream",
     "text": [
      "===============================================================\n",
      "Region 1:\n",
      "===============================================================\n"
     ]
    },
    {
     "data": {
      "text/html": [
       "<div>\n",
       "<style scoped>\n",
       "    .dataframe tbody tr th:only-of-type {\n",
       "        vertical-align: middle;\n",
       "    }\n",
       "\n",
       "    .dataframe tbody tr th {\n",
       "        vertical-align: top;\n",
       "    }\n",
       "\n",
       "    .dataframe thead th {\n",
       "        text-align: right;\n",
       "    }\n",
       "</style>\n",
       "<table border=\"1\" class=\"dataframe\">\n",
       "  <thead>\n",
       "    <tr style=\"text-align: right;\">\n",
       "      <th></th>\n",
       "      <th>id</th>\n",
       "      <th>f0</th>\n",
       "      <th>f1</th>\n",
       "      <th>f2</th>\n",
       "      <th>product</th>\n",
       "    </tr>\n",
       "  </thead>\n",
       "  <tbody>\n",
       "    <tr>\n",
       "      <th>29307</th>\n",
       "      <td>93bOM</td>\n",
       "      <td>0.562396</td>\n",
       "      <td>0.626770</td>\n",
       "      <td>1.925240</td>\n",
       "      <td>151.112329</td>\n",
       "    </tr>\n",
       "    <tr>\n",
       "      <th>63906</th>\n",
       "      <td>3904N</td>\n",
       "      <td>0.425611</td>\n",
       "      <td>1.076738</td>\n",
       "      <td>2.916254</td>\n",
       "      <td>122.669563</td>\n",
       "    </tr>\n",
       "    <tr>\n",
       "      <th>30010</th>\n",
       "      <td>lEZnM</td>\n",
       "      <td>1.303804</td>\n",
       "      <td>-0.205332</td>\n",
       "      <td>0.410010</td>\n",
       "      <td>29.911323</td>\n",
       "    </tr>\n",
       "    <tr>\n",
       "      <th>99432</th>\n",
       "      <td>a6VQQ</td>\n",
       "      <td>1.600667</td>\n",
       "      <td>-0.617557</td>\n",
       "      <td>1.566949</td>\n",
       "      <td>110.215652</td>\n",
       "    </tr>\n",
       "    <tr>\n",
       "      <th>17910</th>\n",
       "      <td>Wfc3f</td>\n",
       "      <td>0.422571</td>\n",
       "      <td>-0.299100</td>\n",
       "      <td>4.827240</td>\n",
       "      <td>181.396631</td>\n",
       "    </tr>\n",
       "  </tbody>\n",
       "</table>\n",
       "</div>"
      ],
      "text/plain": [
       "          id        f0        f1        f2     product\n",
       "29307  93bOM  0.562396  0.626770  1.925240  151.112329\n",
       "63906  3904N  0.425611  1.076738  2.916254  122.669563\n",
       "30010  lEZnM  1.303804 -0.205332  0.410010   29.911323\n",
       "99432  a6VQQ  1.600667 -0.617557  1.566949  110.215652\n",
       "17910  Wfc3f  0.422571 -0.299100  4.827240  181.396631"
      ]
     },
     "metadata": {},
     "output_type": "display_data"
    },
    {
     "data": {
      "text/plain": [
       "(100000, 5)"
      ]
     },
     "metadata": {},
     "output_type": "display_data"
    },
    {
     "name": "stdout",
     "output_type": "stream",
     "text": [
      "===============================================================\n",
      "Region 2:\n",
      "===============================================================\n"
     ]
    },
    {
     "data": {
      "text/html": [
       "<div>\n",
       "<style scoped>\n",
       "    .dataframe tbody tr th:only-of-type {\n",
       "        vertical-align: middle;\n",
       "    }\n",
       "\n",
       "    .dataframe tbody tr th {\n",
       "        vertical-align: top;\n",
       "    }\n",
       "\n",
       "    .dataframe thead th {\n",
       "        text-align: right;\n",
       "    }\n",
       "</style>\n",
       "<table border=\"1\" class=\"dataframe\">\n",
       "  <thead>\n",
       "    <tr style=\"text-align: right;\">\n",
       "      <th></th>\n",
       "      <th>id</th>\n",
       "      <th>f0</th>\n",
       "      <th>f1</th>\n",
       "      <th>f2</th>\n",
       "      <th>product</th>\n",
       "    </tr>\n",
       "  </thead>\n",
       "  <tbody>\n",
       "    <tr>\n",
       "      <th>30337</th>\n",
       "      <td>z2LYW</td>\n",
       "      <td>-9.195483</td>\n",
       "      <td>-2.312563</td>\n",
       "      <td>1.998036</td>\n",
       "      <td>57.085625</td>\n",
       "    </tr>\n",
       "    <tr>\n",
       "      <th>48005</th>\n",
       "      <td>qLfU7</td>\n",
       "      <td>12.446606</td>\n",
       "      <td>-7.130318</td>\n",
       "      <td>3.997416</td>\n",
       "      <td>107.813044</td>\n",
       "    </tr>\n",
       "    <tr>\n",
       "      <th>65919</th>\n",
       "      <td>c26cG</td>\n",
       "      <td>-0.564195</td>\n",
       "      <td>-3.976619</td>\n",
       "      <td>1.991902</td>\n",
       "      <td>57.085625</td>\n",
       "    </tr>\n",
       "    <tr>\n",
       "      <th>72035</th>\n",
       "      <td>FhJj3</td>\n",
       "      <td>-6.014947</td>\n",
       "      <td>-4.519604</td>\n",
       "      <td>3.012383</td>\n",
       "      <td>84.038886</td>\n",
       "    </tr>\n",
       "    <tr>\n",
       "      <th>18174</th>\n",
       "      <td>x57GE</td>\n",
       "      <td>15.615783</td>\n",
       "      <td>-5.859162</td>\n",
       "      <td>1.005386</td>\n",
       "      <td>26.953261</td>\n",
       "    </tr>\n",
       "  </tbody>\n",
       "</table>\n",
       "</div>"
      ],
      "text/plain": [
       "          id         f0        f1        f2     product\n",
       "30337  z2LYW  -9.195483 -2.312563  1.998036   57.085625\n",
       "48005  qLfU7  12.446606 -7.130318  3.997416  107.813044\n",
       "65919  c26cG  -0.564195 -3.976619  1.991902   57.085625\n",
       "72035  FhJj3  -6.014947 -4.519604  3.012383   84.038886\n",
       "18174  x57GE  15.615783 -5.859162  1.005386   26.953261"
      ]
     },
     "metadata": {},
     "output_type": "display_data"
    },
    {
     "data": {
      "text/plain": [
       "(100000, 5)"
      ]
     },
     "metadata": {},
     "output_type": "display_data"
    },
    {
     "name": "stdout",
     "output_type": "stream",
     "text": [
      "===============================================================\n",
      "Region 3:\n",
      "===============================================================\n"
     ]
    },
    {
     "data": {
      "text/html": [
       "<div>\n",
       "<style scoped>\n",
       "    .dataframe tbody tr th:only-of-type {\n",
       "        vertical-align: middle;\n",
       "    }\n",
       "\n",
       "    .dataframe tbody tr th {\n",
       "        vertical-align: top;\n",
       "    }\n",
       "\n",
       "    .dataframe thead th {\n",
       "        text-align: right;\n",
       "    }\n",
       "</style>\n",
       "<table border=\"1\" class=\"dataframe\">\n",
       "  <thead>\n",
       "    <tr style=\"text-align: right;\">\n",
       "      <th></th>\n",
       "      <th>id</th>\n",
       "      <th>f0</th>\n",
       "      <th>f1</th>\n",
       "      <th>f2</th>\n",
       "      <th>product</th>\n",
       "    </tr>\n",
       "  </thead>\n",
       "  <tbody>\n",
       "    <tr>\n",
       "      <th>29895</th>\n",
       "      <td>WfebS</td>\n",
       "      <td>3.032842</td>\n",
       "      <td>-1.277652</td>\n",
       "      <td>4.373396</td>\n",
       "      <td>119.935318</td>\n",
       "    </tr>\n",
       "    <tr>\n",
       "      <th>43388</th>\n",
       "      <td>iRj1Y</td>\n",
       "      <td>1.178283</td>\n",
       "      <td>-1.188841</td>\n",
       "      <td>6.465481</td>\n",
       "      <td>97.401235</td>\n",
       "    </tr>\n",
       "    <tr>\n",
       "      <th>55125</th>\n",
       "      <td>TFPxR</td>\n",
       "      <td>2.131819</td>\n",
       "      <td>-1.057503</td>\n",
       "      <td>4.317005</td>\n",
       "      <td>42.257491</td>\n",
       "    </tr>\n",
       "    <tr>\n",
       "      <th>23234</th>\n",
       "      <td>LpxQW</td>\n",
       "      <td>1.020714</td>\n",
       "      <td>-0.482484</td>\n",
       "      <td>1.010306</td>\n",
       "      <td>141.414010</td>\n",
       "    </tr>\n",
       "    <tr>\n",
       "      <th>12807</th>\n",
       "      <td>N45jh</td>\n",
       "      <td>-5.169341</td>\n",
       "      <td>0.530403</td>\n",
       "      <td>-2.655512</td>\n",
       "      <td>68.038678</td>\n",
       "    </tr>\n",
       "  </tbody>\n",
       "</table>\n",
       "</div>"
      ],
      "text/plain": [
       "          id        f0        f1        f2     product\n",
       "29895  WfebS  3.032842 -1.277652  4.373396  119.935318\n",
       "43388  iRj1Y  1.178283 -1.188841  6.465481   97.401235\n",
       "55125  TFPxR  2.131819 -1.057503  4.317005   42.257491\n",
       "23234  LpxQW  1.020714 -0.482484  1.010306  141.414010\n",
       "12807  N45jh -5.169341  0.530403 -2.655512   68.038678"
      ]
     },
     "metadata": {},
     "output_type": "display_data"
    },
    {
     "data": {
      "text/plain": [
       "(100000, 5)"
      ]
     },
     "metadata": {},
     "output_type": "display_data"
    }
   ],
   "source": [
    "geo_data_0 = pd.read_csv('geo_data_0.csv')\n",
    "geo_data_1 = pd.read_csv('geo_data_1.csv')\n",
    "geo_data_2 = pd.read_csv('geo_data_2.csv')\n",
    "geo_df = [geo_data_0, geo_data_1, geo_data_2]\n",
    "\n",
    "line = '==='\n",
    "i=1\n",
    "for data in geo_df:\n",
    "    print(f'{line*21}\\nRegion {i}:\\n{line*21}')\n",
    "    display(data.sample(5), data.shape)\n",
    "    i+=1"
   ]
  },
  {
   "cell_type": "markdown",
   "metadata": {},
   "source": [
    "<div style=\"border-radius: 15px; box-shadow: 2px 2px 2px; border: 1px solid green; padding: 20px\">\n",
    "    \n",
    "We were provided with historical data for three regions where 100,000 wells were found. Each well was assigned an <code>id</code> number. For each of the wells, calculations were made of the parameters that affect the quality and quantity of oil in it. The last <code>product</code> column shows the actual amount of inventory.\n",
    "    \n",
    "It is necessary to evaluate all the received data as a whole. To do this, we construct histograms for each region.\n",
    "\n",
    "</div>"
   ]
  },
  {
   "cell_type": "code",
   "execution_count": 3,
   "metadata": {},
   "outputs": [
    {
     "data": {
      "application/vnd.jupyter.widget-view+json": {
       "model_id": "82c500c818b14327a2326d2a36061655",
       "version_major": 2,
       "version_minor": 0
      },
      "text/plain": [
       "Loading: 0it [00:00, ?it/s]"
      ]
     },
     "metadata": {},
     "output_type": "display_data"
    },
    {
     "data": {
      "image/png": "[encoded data removed]",
      "text/plain": [
       "<Figure size 1440x1080 with 12 Axes>"
      ]
     },
     "metadata": {
      "needs_background": "light"
     },
     "output_type": "display_data"
    }
   ],
   "source": [
    "fig, ax = plt.subplots(3, 4,figsize = (20,15))\n",
    "y = np.arange(0,3) \n",
    "x = np.arange(0,4) \n",
    "geo_name = ['Region 1', 'Region 2', 'Region 3']\n",
    "columns = ['f0', 'f1', 'f2', 'product']\n",
    "coord = product(x,y)\n",
    "\n",
    "for i in tqdm(coord, desc = 'Loading'):\n",
    "    ax[i[1]][i[0]].hist(geo_df[i[1]][columns[i[0]]], bins=80)\n",
    "for row in y:\n",
    "    ax[row][0].set_ylabel(geo_name[row], fontsize = 15)\n",
    "for column in x:\n",
    "    ax[0][column].set_title(columns[column], fontsize = 15)"
   ]
  },
  {
   "cell_type": "markdown",
   "metadata": {},
   "source": [
    "<div style=\"border-radius: 15px; box-shadow: 2px 2px 2px; border: 1px solid green; padding: 20px\">\n",
    "    \n",
    "### Intermediate conclusion\n",
    "\n",
    "As can be seen from the histograms, we are dealing with different types of regions. In some areas, the qualitative parameters have the form of a normal distribution, somewhere they take strict values ​​and have approximately equal probability, and somewhere they look like casts 👻\n",
    "    \n",
    "At this stage, with a small degree of probability, it can be assumed that the <code>f2</code> parameter most of all affects the distribution of reserves in wells because the parameters <code>f0</code> and <code>f1</code> are different for regions 1 and 3. In contrast, the parameters <code>f2</code> and the target feature <code>product</code> have the same look.\n",
    "    \n",
    "It can also be assumed that after training, the model will more accurately predict the target feature for the second region, in which the amount of oil does not have such a large number of values, and there is a sufficiently large distance between them.\n",
    "    \n",
    "In this problem, we are not interested in the nature of the parameters f have, so we will study the data for repetitions and gaps and not check for noise.\n",
    "\n",
    "</div>"
   ]
  },
  {
   "cell_type": "code",
   "execution_count": 4,
   "metadata": {},
   "outputs": [
    {
     "name": "stdout",
     "output_type": "stream",
     "text": [
      "Number of duplicates in all tables: 0\n",
      "Number of duplicate well ids in all tables: 49\n",
      "Number of duplicate well ids in the Region 1: 10\n",
      "Number of duplicate well ids in the Region 2: 4\n",
      "Number of duplicate well ids in the Region 3: 4\n"
     ]
    }
   ],
   "source": [
    "alldata = pd.concat([geo_data_0, geo_data_1, geo_data_2])\n",
    "print('Number of duplicates in all tables:', alldata.duplicated().sum())\n",
    "print('Number of duplicate well ids in all tables:', alldata['id'].duplicated().sum())\n",
    "\n",
    "i=1\n",
    "for data in geo_df:\n",
    "    print(f'Number of duplicate well ids in the Region {i}:', data['id'].duplicated().sum())\n",
    "    i+=1"
   ]
  },
  {
   "cell_type": "markdown",
   "metadata": {},
   "source": [
    "<div style=\"border-radius: 15px; box-shadow: 2px 2px 2px; border: 1px solid green; padding: 20px\">\n",
    "    \n",
    "\n",
    "No complete duplicates were found between all regions, meaning the areas do not intersect, and the samples are not pairwise interconnected.\n",
    "    \n",
    "However, there are duplicates in the wells' <code>id</code>. There may be two reasons:\n",
    "    \n",
    "1. Errors when assigning <code>id</code> to each well. This does not affect further calculations;\n",
    "2. The data were obtained at different times. During this time difference, oil could start to be produced from the well, or even deeper / wider could be drilled. In this case, the data were enriched with new parameters, and this, on the contrary, has a positive effect on further calculations.\n",
    "    \n",
    "Remove this column and check gaps and data types.\n",
    "\n",
    "</div>"
   ]
  },
  {
   "cell_type": "code",
   "execution_count": 5,
   "metadata": {},
   "outputs": [
    {
     "name": "stdout",
     "output_type": "stream",
     "text": [
      "===============================================================\n",
      "Region 1:\n",
      "===============================================================\n",
      "<class 'pandas.core.frame.DataFrame'>\n",
      "RangeIndex: 100000 entries, 0 to 99999\n",
      "Data columns (total 5 columns):\n",
      " #   Column   Non-Null Count   Dtype  \n",
      "---  ------   --------------   -----  \n",
      " 0   id       100000 non-null  object \n",
      " 1   f0       100000 non-null  float64\n",
      " 2   f1       100000 non-null  float64\n",
      " 3   f2       100000 non-null  float64\n",
      " 4   product  100000 non-null  float64\n",
      "dtypes: float64(4), object(1)\n",
      "memory usage: 3.8+ MB\n"
     ]
    },
    {
     "data": {
      "text/html": [
       "<div>\n",
       "<style scoped>\n",
       "    .dataframe tbody tr th:only-of-type {\n",
       "        vertical-align: middle;\n",
       "    }\n",
       "\n",
       "    .dataframe tbody tr th {\n",
       "        vertical-align: top;\n",
       "    }\n",
       "\n",
       "    .dataframe thead th {\n",
       "        text-align: right;\n",
       "    }\n",
       "</style>\n",
       "<table border=\"1\" class=\"dataframe\">\n",
       "  <thead>\n",
       "    <tr style=\"text-align: right;\">\n",
       "      <th></th>\n",
       "      <th>f0</th>\n",
       "      <th>f1</th>\n",
       "      <th>f2</th>\n",
       "      <th>product</th>\n",
       "    </tr>\n",
       "  </thead>\n",
       "  <tbody>\n",
       "    <tr>\n",
       "      <th>count</th>\n",
       "      <td>100000.000000</td>\n",
       "      <td>100000.000000</td>\n",
       "      <td>100000.000000</td>\n",
       "      <td>100000.000000</td>\n",
       "    </tr>\n",
       "    <tr>\n",
       "      <th>mean</th>\n",
       "      <td>0.500419</td>\n",
       "      <td>0.250143</td>\n",
       "      <td>2.502647</td>\n",
       "      <td>92.500000</td>\n",
       "    </tr>\n",
       "    <tr>\n",
       "      <th>std</th>\n",
       "      <td>0.871832</td>\n",
       "      <td>0.504433</td>\n",
       "      <td>3.248248</td>\n",
       "      <td>44.288691</td>\n",
       "    </tr>\n",
       "    <tr>\n",
       "      <th>min</th>\n",
       "      <td>-1.408605</td>\n",
       "      <td>-0.848218</td>\n",
       "      <td>-12.088328</td>\n",
       "      <td>0.000000</td>\n",
       "    </tr>\n",
       "    <tr>\n",
       "      <th>25%</th>\n",
       "      <td>-0.072580</td>\n",
       "      <td>-0.200881</td>\n",
       "      <td>0.287748</td>\n",
       "      <td>56.497507</td>\n",
       "    </tr>\n",
       "    <tr>\n",
       "      <th>50%</th>\n",
       "      <td>0.502360</td>\n",
       "      <td>0.250252</td>\n",
       "      <td>2.515969</td>\n",
       "      <td>91.849972</td>\n",
       "    </tr>\n",
       "    <tr>\n",
       "      <th>75%</th>\n",
       "      <td>1.073581</td>\n",
       "      <td>0.700646</td>\n",
       "      <td>4.715088</td>\n",
       "      <td>128.564089</td>\n",
       "    </tr>\n",
       "    <tr>\n",
       "      <th>max</th>\n",
       "      <td>2.362331</td>\n",
       "      <td>1.343769</td>\n",
       "      <td>16.003790</td>\n",
       "      <td>185.364347</td>\n",
       "    </tr>\n",
       "  </tbody>\n",
       "</table>\n",
       "</div>"
      ],
      "text/plain": [
       "                  f0             f1             f2        product\n",
       "count  100000.000000  100000.000000  100000.000000  100000.000000\n",
       "mean        0.500419       0.250143       2.502647      92.500000\n",
       "std         0.871832       0.504433       3.248248      44.288691\n",
       "min        -1.408605      -0.848218     -12.088328       0.000000\n",
       "25%        -0.072580      -0.200881       0.287748      56.497507\n",
       "50%         0.502360       0.250252       2.515969      91.849972\n",
       "75%         1.073581       0.700646       4.715088     128.564089\n",
       "max         2.362331       1.343769      16.003790     185.364347"
      ]
     },
     "metadata": {},
     "output_type": "display_data"
    },
    {
     "data": {
      "text/plain": [
       "None"
      ]
     },
     "metadata": {},
     "output_type": "display_data"
    },
    {
     "name": "stdout",
     "output_type": "stream",
     "text": [
      "===============================================================\n",
      "Region 2:\n",
      "===============================================================\n",
      "<class 'pandas.core.frame.DataFrame'>\n",
      "RangeIndex: 100000 entries, 0 to 99999\n",
      "Data columns (total 5 columns):\n",
      " #   Column   Non-Null Count   Dtype  \n",
      "---  ------   --------------   -----  \n",
      " 0   id       100000 non-null  object \n",
      " 1   f0       100000 non-null  float64\n",
      " 2   f1       100000 non-null  float64\n",
      " 3   f2       100000 non-null  float64\n",
      " 4   product  100000 non-null  float64\n",
      "dtypes: float64(4), object(1)\n",
      "memory usage: 3.8+ MB\n"
     ]
    },
    {
     "data": {
      "text/html": [
       "<div>\n",
       "<style scoped>\n",
       "    .dataframe tbody tr th:only-of-type {\n",
       "        vertical-align: middle;\n",
       "    }\n",
       "\n",
       "    .dataframe tbody tr th {\n",
       "        vertical-align: top;\n",
       "    }\n",
       "\n",
       "    .dataframe thead th {\n",
       "        text-align: right;\n",
       "    }\n",
       "</style>\n",
       "<table border=\"1\" class=\"dataframe\">\n",
       "  <thead>\n",
       "    <tr style=\"text-align: right;\">\n",
       "      <th></th>\n",
       "      <th>f0</th>\n",
       "      <th>f1</th>\n",
       "      <th>f2</th>\n",
       "      <th>product</th>\n",
       "    </tr>\n",
       "  </thead>\n",
       "  <tbody>\n",
       "    <tr>\n",
       "      <th>count</th>\n",
       "      <td>100000.000000</td>\n",
       "      <td>100000.000000</td>\n",
       "      <td>100000.000000</td>\n",
       "      <td>100000.000000</td>\n",
       "    </tr>\n",
       "    <tr>\n",
       "      <th>mean</th>\n",
       "      <td>1.141296</td>\n",
       "      <td>-4.796579</td>\n",
       "      <td>2.494541</td>\n",
       "      <td>68.825000</td>\n",
       "    </tr>\n",
       "    <tr>\n",
       "      <th>std</th>\n",
       "      <td>8.965932</td>\n",
       "      <td>5.119872</td>\n",
       "      <td>1.703572</td>\n",
       "      <td>45.944423</td>\n",
       "    </tr>\n",
       "    <tr>\n",
       "      <th>min</th>\n",
       "      <td>-31.609576</td>\n",
       "      <td>-26.358598</td>\n",
       "      <td>-0.018144</td>\n",
       "      <td>0.000000</td>\n",
       "    </tr>\n",
       "    <tr>\n",
       "      <th>25%</th>\n",
       "      <td>-6.298551</td>\n",
       "      <td>-8.267985</td>\n",
       "      <td>1.000021</td>\n",
       "      <td>26.953261</td>\n",
       "    </tr>\n",
       "    <tr>\n",
       "      <th>50%</th>\n",
       "      <td>1.153055</td>\n",
       "      <td>-4.813172</td>\n",
       "      <td>2.011479</td>\n",
       "      <td>57.085625</td>\n",
       "    </tr>\n",
       "    <tr>\n",
       "      <th>75%</th>\n",
       "      <td>8.621015</td>\n",
       "      <td>-1.332816</td>\n",
       "      <td>3.999904</td>\n",
       "      <td>107.813044</td>\n",
       "    </tr>\n",
       "    <tr>\n",
       "      <th>max</th>\n",
       "      <td>29.421755</td>\n",
       "      <td>18.734063</td>\n",
       "      <td>5.019721</td>\n",
       "      <td>137.945408</td>\n",
       "    </tr>\n",
       "  </tbody>\n",
       "</table>\n",
       "</div>"
      ],
      "text/plain": [
       "                  f0             f1             f2        product\n",
       "count  100000.000000  100000.000000  100000.000000  100000.000000\n",
       "mean        1.141296      -4.796579       2.494541      68.825000\n",
       "std         8.965932       5.119872       1.703572      45.944423\n",
       "min       -31.609576     -26.358598      -0.018144       0.000000\n",
       "25%        -6.298551      -8.267985       1.000021      26.953261\n",
       "50%         1.153055      -4.813172       2.011479      57.085625\n",
       "75%         8.621015      -1.332816       3.999904     107.813044\n",
       "max        29.421755      18.734063       5.019721     137.945408"
      ]
     },
     "metadata": {},
     "output_type": "display_data"
    },
    {
     "data": {
      "text/plain": [
       "None"
      ]
     },
     "metadata": {},
     "output_type": "display_data"
    },
    {
     "name": "stdout",
     "output_type": "stream",
     "text": [
      "===============================================================\n",
      "Region 3:\n",
      "===============================================================\n",
      "<class 'pandas.core.frame.DataFrame'>\n",
      "RangeIndex: 100000 entries, 0 to 99999\n",
      "Data columns (total 5 columns):\n",
      " #   Column   Non-Null Count   Dtype  \n",
      "---  ------   --------------   -----  \n",
      " 0   id       100000 non-null  object \n",
      " 1   f0       100000 non-null  float64\n",
      " 2   f1       100000 non-null  float64\n",
      " 3   f2       100000 non-null  float64\n",
      " 4   product  100000 non-null  float64\n",
      "dtypes: float64(4), object(1)\n",
      "memory usage: 3.8+ MB\n"
     ]
    },
    {
     "data": {
      "text/html": [
       "<div>\n",
       "<style scoped>\n",
       "    .dataframe tbody tr th:only-of-type {\n",
       "        vertical-align: middle;\n",
       "    }\n",
       "\n",
       "    .dataframe tbody tr th {\n",
       "        vertical-align: top;\n",
       "    }\n",
       "\n",
       "    .dataframe thead th {\n",
       "        text-align: right;\n",
       "    }\n",
       "</style>\n",
       "<table border=\"1\" class=\"dataframe\">\n",
       "  <thead>\n",
       "    <tr style=\"text-align: right;\">\n",
       "      <th></th>\n",
       "      <th>f0</th>\n",
       "      <th>f1</th>\n",
       "      <th>f2</th>\n",
       "      <th>product</th>\n",
       "    </tr>\n",
       "  </thead>\n",
       "  <tbody>\n",
       "    <tr>\n",
       "      <th>count</th>\n",
       "      <td>100000.000000</td>\n",
       "      <td>100000.000000</td>\n",
       "      <td>100000.000000</td>\n",
       "      <td>100000.000000</td>\n",
       "    </tr>\n",
       "    <tr>\n",
       "      <th>mean</th>\n",
       "      <td>0.002023</td>\n",
       "      <td>-0.002081</td>\n",
       "      <td>2.495128</td>\n",
       "      <td>95.000000</td>\n",
       "    </tr>\n",
       "    <tr>\n",
       "      <th>std</th>\n",
       "      <td>1.732045</td>\n",
       "      <td>1.730417</td>\n",
       "      <td>3.473445</td>\n",
       "      <td>44.749921</td>\n",
       "    </tr>\n",
       "    <tr>\n",
       "      <th>min</th>\n",
       "      <td>-8.760004</td>\n",
       "      <td>-7.084020</td>\n",
       "      <td>-11.970335</td>\n",
       "      <td>0.000000</td>\n",
       "    </tr>\n",
       "    <tr>\n",
       "      <th>25%</th>\n",
       "      <td>-1.162288</td>\n",
       "      <td>-1.174820</td>\n",
       "      <td>0.130359</td>\n",
       "      <td>59.450441</td>\n",
       "    </tr>\n",
       "    <tr>\n",
       "      <th>50%</th>\n",
       "      <td>0.009424</td>\n",
       "      <td>-0.009482</td>\n",
       "      <td>2.484236</td>\n",
       "      <td>94.925613</td>\n",
       "    </tr>\n",
       "    <tr>\n",
       "      <th>75%</th>\n",
       "      <td>1.158535</td>\n",
       "      <td>1.163678</td>\n",
       "      <td>4.858794</td>\n",
       "      <td>130.595027</td>\n",
       "    </tr>\n",
       "    <tr>\n",
       "      <th>max</th>\n",
       "      <td>7.238262</td>\n",
       "      <td>7.844801</td>\n",
       "      <td>16.739402</td>\n",
       "      <td>190.029838</td>\n",
       "    </tr>\n",
       "  </tbody>\n",
       "</table>\n",
       "</div>"
      ],
      "text/plain": [
       "                  f0             f1             f2        product\n",
       "count  100000.000000  100000.000000  100000.000000  100000.000000\n",
       "mean        0.002023      -0.002081       2.495128      95.000000\n",
       "std         1.732045       1.730417       3.473445      44.749921\n",
       "min        -8.760004      -7.084020     -11.970335       0.000000\n",
       "25%        -1.162288      -1.174820       0.130359      59.450441\n",
       "50%         0.009424      -0.009482       2.484236      94.925613\n",
       "75%         1.158535       1.163678       4.858794     130.595027\n",
       "max         7.238262       7.844801      16.739402     190.029838"
      ]
     },
     "metadata": {},
     "output_type": "display_data"
    },
    {
     "data": {
      "text/plain": [
       "None"
      ]
     },
     "metadata": {},
     "output_type": "display_data"
    }
   ],
   "source": [
    "i=1\n",
    "for data in geo_df:\n",
    "    print(f'{line*21}\\nRegion {i}:\\n{line*21}')\n",
    "    display(data.describe(), data.info())\n",
    "    i+=1"
   ]
  },
  {
   "cell_type": "markdown",
   "metadata": {},
   "source": [
    "<div style=\"border-radius: 15px; box-shadow: 2px 2px 2px; border: 1px solid green; padding: 20px\">\n",
    "    \n",
    "### Conclusion\n",
    "    \n",
    "We were provided data for three regions where 100,000 wells were found. Each well was assigned an <code>id</code> number. For each of the wells, calculations were made of the parameters that affect the quality and quantity of oil in it. The last <code>product</code> column shows the actual amount of inventory.\n",
    "    \n",
    "As can be seen from the histograms, we are dealing with different types of regions. Somewhere in the areas, the qualitative parameters have the form of a normal distribution; somewhere, they take strict values and have approximately equal probability.\n",
    "    \n",
    "No complete duplicates were found between all regions, which means that the areas do not intersect with each other, and the samples are not pairwise interconnected.\n",
    "    \n",
    "No gaps were found, and the data types are suitable for training and validating our model.\n",
    "    \n",
    "Judging by the values of the target attribute <code>product</code>, we are faced with the task of regression. Best of all, the Linear Regression model will cope with this in the task context. We need to write a function that:\n",
    "    \n",
    "- Split data into features (<code>f0</code>,<code>f1</code> and <code>f2</code>) and targets (<code>product</code>) for each region\n",
    "- Will scale features\n",
    "- Will split our data into samples: Training and Validation (test) in the ratio 75/25;\n",
    "- Train our Linear Regression on the training set\n",
    "- Displays two metrics: Mean of predicted <code>product</code> in expected and Root Mean Square Error of our predictions (RMSE)\n",
    "- Writes all indicators of predictions and the actual amount of <code>product</code> into separate variables to help us further predict the amount of oil in new regions, test our predictions, and calculate risks.\n",
    "\n",
    "</div>"
   ]
  },
  {
   "cell_type": "markdown",
   "metadata": {},
   "source": [
    "## Model training and validation"
   ]
  },
  {
   "cell_type": "code",
   "execution_count": 6,
   "metadata": {},
   "outputs": [],
   "source": [
    "random_state = 12345\n",
    "def split_and_train(data):\n",
    "    # Setting up features and targets\n",
    "    features = data.drop(['product', 'id'], axis=1)\n",
    "    target = data['product']\n",
    "    \n",
    "    # Scaling\n",
    "    scaler = StandardScaler()\n",
    "    scaler.fit(features)\n",
    "    features = scaler.transform(features)\n",
    "    \n",
    "    # Labeling data into training and validation sets\n",
    "    features_train, features_valid, target_train, target_valid = train_test_split(features, \n",
    "                                                                                  target, \n",
    "                                                                                  test_size=0.25, \n",
    "                                                                                  random_state=random_state)\n",
    "    # Train Linear Regression\n",
    "    model = LinearRegression(normalize=False)\n",
    "    model.fit(features_train, target_train)\n",
    "    \n",
    "    # Making predictions on validation features (verification)\n",
    "    predictions = model.predict(features_valid)\n",
    "    predictions = pd.Series(predictions)\n",
    "    \n",
    "    # RMS error\n",
    "    rmse = (mean_squared_error(predictions, target_valid))**(0.5)\n",
    "    \n",
    "    # Average prediction for a region\n",
    "    average_product = sum(predictions) / len(predictions)\n",
    "    \n",
    "    # Returning our predictions, targets\n",
    "    return (predictions, target_valid.reset_index(drop=True), rmse)\n",
    "\n"
   ]
  },
  {
   "cell_type": "code",
   "execution_count": 7,
   "metadata": {},
   "outputs": [
    {
     "data": {
      "text/html": [
       "<div>\n",
       "<style scoped>\n",
       "    .dataframe tbody tr th:only-of-type {\n",
       "        vertical-align: middle;\n",
       "    }\n",
       "\n",
       "    .dataframe tbody tr th {\n",
       "        vertical-align: top;\n",
       "    }\n",
       "\n",
       "    .dataframe thead th {\n",
       "        text-align: right;\n",
       "    }\n",
       "</style>\n",
       "<table border=\"1\" class=\"dataframe\">\n",
       "  <thead>\n",
       "    <tr style=\"text-align: right;\">\n",
       "      <th></th>\n",
       "      <th>region</th>\n",
       "      <th>predicted_μ_product</th>\n",
       "      <th>valid_μ_product</th>\n",
       "      <th>RMSE</th>\n",
       "    </tr>\n",
       "  </thead>\n",
       "  <tbody>\n",
       "    <tr>\n",
       "      <th>0</th>\n",
       "      <td>Region 1</td>\n",
       "      <td>92592</td>\n",
       "      <td>92078.596741</td>\n",
       "      <td>37.58</td>\n",
       "    </tr>\n",
       "    <tr>\n",
       "      <th>1</th>\n",
       "      <td>Region 2</td>\n",
       "      <td>68728</td>\n",
       "      <td>68723.136024</td>\n",
       "      <td>0.89</td>\n",
       "    </tr>\n",
       "    <tr>\n",
       "      <th>2</th>\n",
       "      <td>Region 3</td>\n",
       "      <td>94965</td>\n",
       "      <td>94884.232809</td>\n",
       "      <td>40.03</td>\n",
       "    </tr>\n",
       "  </tbody>\n",
       "</table>\n",
       "</div>"
      ],
      "text/plain": [
       "     region predicted_μ_product valid_μ_product   RMSE\n",
       "0  Region 1               92592    92078.596741  37.58\n",
       "1  Region 2               68728    68723.136024   0.89\n",
       "2  Region 3               94965    94884.232809  40.03"
      ]
     },
     "metadata": {},
     "output_type": "display_data"
    },
    {
     "name": "stdout",
     "output_type": "stream",
     "text": [
      "===============================================================\n",
      "Region 1:\n",
      "===============================================================\n"
     ]
    },
    {
     "data": {
      "image/png": "[encoded data removed]",
      "text/plain": [
       "<Figure size 432x288 with 1 Axes>"
      ]
     },
     "metadata": {
      "needs_background": "light"
     },
     "output_type": "display_data"
    },
    {
     "name": "stdout",
     "output_type": "stream",
     "text": [
      "===============================================================\n",
      "Region 2:\n",
      "===============================================================\n"
     ]
    },
    {
     "data": {
      "image/png": "[encoded data removed]",
      "text/plain": [
       "<Figure size 432x288 with 1 Axes>"
      ]
     },
     "metadata": {
      "needs_background": "light"
     },
     "output_type": "display_data"
    },
    {
     "name": "stdout",
     "output_type": "stream",
     "text": [
      "===============================================================\n",
      "Region 3:\n",
      "===============================================================\n"
     ]
    },
    {
     "data": {
      "image/png": "[encoded data removed]",
      "text/plain": [
       "<Figure size 432x288 with 1 Axes>"
      ]
     },
     "metadata": {
      "needs_background": "light"
     },
     "output_type": "display_data"
    }
   ],
   "source": [
    "# Write down our predictions, validation, and standard error for each region\n",
    "predict_prod_0, valid_prod_0, rmse_0 = split_and_train(geo_data_0)\n",
    "predict_prod_1, valid_prod_1, rmse_1 = split_and_train(geo_data_1)\n",
    "predict_prod_2, valid_prod_2, rmse_2 = split_and_train(geo_data_2)\n",
    "\n",
    "# List of average predictions for a region\n",
    "predict_prod = [int(sum(predict_prod_0)*1000 / len(predict_prod_0)),\n",
    "                int(sum(predict_prod_1)*1000 / len(predict_prod_1)),\n",
    "                int(sum(predict_prod_2)*1000 / len(predict_prod_2))]\n",
    "# List of average actual value\n",
    "valid_prod = [valid_prod_0.mean()*1000,\n",
    "              valid_prod_1.mean()*1000,\n",
    "              valid_prod_2.mean()*1000]\n",
    "# List of root mean square errors for a region\n",
    "rmse = [round(rmse_0,2), \n",
    "        round(rmse_1,2), \n",
    "        round(rmse_2,2)]\n",
    "# Putting them in a table\n",
    "region_table = pd.DataFrame(data = (geo_name,predict_prod,valid_prod, rmse)).T\n",
    "region_table.columns = ('region','predicted_μ_product', 'valid_μ_product', 'RMSE')\n",
    "display(region_table)\n",
    "\n",
    "i=1\n",
    "for x in [predict_prod_0,predict_prod_1,predict_prod_2]:\n",
    "    print(f'{line*21}\\nRegion {i}:\\n{line*21}')\n",
    "    x.hist(bins=80)\n",
    "    plt.show()\n",
    "    i+=1"
   ]
  },
  {
   "cell_type": "markdown",
   "metadata": {},
   "source": [
    "<div style=\"border-radius: 15px; box-shadow: 2px 2px 2px; border: 1px solid green; padding: 20px\">\n",
    "    \n",
    "### Conclusion\n",
    "    \n",
    "After training and validating the model, we got the following:\n",
    "\n",
    "- The average predicted value for all regions is different, as is their standard error.\n",
    "- As we suggested earlier, the standard deviation is the lowest for the target feature of the second region. This is since the <code>product</code> histogram for the second region was discrete, while for the rest, it was monotonous. Therefore, the models were easy to predict. In fact, for the second region, this was more of a classification task than a regression task.\n",
    "- For the first and third regions, in comparison with the second, a very high value of the root mean square error. At the same time, the average value, both predicted and actual, is higher by about 20%.\n",
    "- For predictions of regions 1 and 3, the histogram became in the form of a normal distribution. In any case, the essence is preserved. It's just that the previous histograms with target features were \"smoothed to a normal state\" 😅.\n",
    "- Our model is good at predicting target indicators, so we can move on to calculating profits and risks.\n",
    "    \n",
    "</div>"
   ]
  },
  {
   "cell_type": "markdown",
   "metadata": {},
   "source": [
    "## Preparing for Profit Calculation"
   ]
  },
  {
   "cell_type": "markdown",
   "metadata": {},
   "source": [
    "<div style=\"border-radius: 15px; box-shadow: 2px 2px 2px; border: 1px solid green; padding: 20px\">\n",
    "\n",
    "When exploring a region, 500 points are explored, from which the best 200 will be selected for development.\n",
    "    \n",
    "Company allocates 10 billion rubles for the development of 200 outlets. It is necessary to determine the most promising region for investment, for which wells have data f0, f1, and f2. It is essential to define the areas so that the probability of loss (risk) does not exceed 2.5%.\n",
    "    \n",
    "One barrel of raw materials brings 450 rubles of income at current prices.\n",
    "    \n",
    "At this stage, we will write down the minimum amount of raw materials that will be enough to develop 200 wells and also write a function to calculate the profit.\n",
    "\n",
    "</div>"
   ]
  },
  {
   "cell_type": "code",
   "execution_count": 8,
   "metadata": {},
   "outputs": [
    {
     "name": "stdout",
     "output_type": "stream",
     "text": [
      "The minimum average amount of product in the region's fields sufficient to develop is 112 thousand barrels\n"
     ]
    }
   ],
   "source": [
    "oil_points_max = 500\n",
    "oil_points_final = 200\n",
    "budget = 10000000000\n",
    "income = 450\n",
    "income_per_barrel = income * 1000\n",
    "min_mean_prod = budget/(income_per_barrel*oil_points_final)\n",
    "\n",
    "print(\"The minimum average amount of product in the region's fields sufficient to develop is\",\n",
    "      int(np.ceil(min_mean_prod)), 'thousand barrels')\n",
    "\n",
    "'''\n",
    "Profit calculation function\n",
    "profit = revenue - budget\n",
    "revenue = Σproduct[:200] * income_per_barrel\n",
    ", where Σproduct[:200] is the actual amount of oil in the top 200 predicted points in the region\n",
    "'''\n",
    "\n",
    "def profit_count(predictions, target):\n",
    "    top_preds = predictions.sort_values(ascending=False)\n",
    "    top_target = target[top_preds.index][:200]\n",
    "    revenue = top_target.sum() * income_per_barrel\n",
    "    profit = revenue - budget\n",
    "    return profit\n"
   ]
  },
  {
   "cell_type": "markdown",
   "metadata": {},
   "source": [
    "<div style=\"border-radius: 15px; box-shadow: 2px 2px 2px; border: 1px solid green; padding: 20px\">\n",
    "    \n",
    "### Conclusion\n",
    "    \n",
    "The average calculated value of the product for break-even operation does not correspond to the estimated predicted value. Judging by the table, we got after training the model, region 3 is the closest in terms of average value to breaking even. But more is needed. Let's hope that some of the areas will incredibly become randomly profitable.\n",
    "</div>"
   ]
  },
  {
   "cell_type": "markdown",
   "metadata": {},
   "source": [
    "## Calculation of profit and risks "
   ]
  },
  {
   "cell_type": "markdown",
   "metadata": {},
   "source": [
    "<div style=\"border-radius: 15px; box-shadow: 2px 2px 2px; border: 1px solid green; padding: 20px\">\n",
    "\n",
    "<b>The profit and risk calculation plan is as follows:</b>\n",
    "    \n",
    "1. 1000 times with incredible randomness, we will take 500 wells from the region's predicted target features.\n",
    "2. Find relevant actual target features\n",
    "3. Calculate profit:\n",
    "- Sort our predictions, and take 200 indices from the top 200\n",
    "- Use these indices to find the corresponding actual values\n",
    "- Sum them up, multiply them by the cost of a barrel, and subtract the budget from this\n",
    "- *This is essentially gross profit. But who knows if they pay salaries, whether they pay taxes.\n",
    "4. We write all 1000 entries with profit calculation and calculate the confidence interval, average, and risks.\n",
    "- confidence interval - the range in which the average value is likely to be\n",
    "- the average is the arithmetic average of all profit values\n",
    "- risks - the number of cases with negative profit (losses) concerning positive profit (earnings)\n",
    "5. Do all these operations for three regions\n",
    "6. Select suitable regions. If the risk is higher than 2.5%, the region is unsuitable.\n",
    "7. Draw the German flag to support the completion of Nord Stream 2. It's about time.\n",
    "</div>"
   ]
  },
  {
   "cell_type": "code",
   "execution_count": 9,
   "metadata": {},
   "outputs": [],
   "source": [
    "state = np.random.RandomState(12345)\n",
    "# Let's write a very complex function, in which there will be another function that will do what is written above\n",
    "def profit_n_risk(predict, target, color):\n",
    "    revenue = []\n",
    "    \n",
    "    for _ in tqdm(range(1000), colour = colour, desc = 'Loading'):\n",
    "        predict_sample = predict.sample(oil_points_max, replace=True, random_state=state)\n",
    "        target_sample = target[predict_sample.index]\n",
    "        \n",
    "        revenue.append(profit_count(predict_sample, target_sample))   \n",
    "    revenue = pd.Series(revenue)\n",
    "    \n",
    "    # Start of confidence interval\n",
    "    lower = revenue.quantile(0.025)\n",
    "    \n",
    "    # End of confidence interval\n",
    "    higher = revenue.quantile(0.975)\n",
    "    \n",
    "    # Average revenue per well\n",
    "    μ_revenue = int(round(sum(revenue) / len(revenue),0))\n",
    "    \n",
    "    # What is the percentage of negative average revenue (unprofitable wells)\n",
    "    risk = st.percentileofscore(revenue, 0)\n",
    "    \n",
    "    # We leave only those regions in which the probability of losses is less than 2.5% and give instructions\n",
    "    бурить = 'To drill'\n",
    "    небурить = 'Not to Drill'\n",
    "    \n",
    "    \n",
    "    if risk < 2.5:\n",
    "        return ((int(lower), int(higher)), revenue, μ_revenue, risk, бурить)\n",
    "    else: \n",
    "        return ((int(lower), int(higher)), revenue, μ_revenue, 'Higher than 2,5%', небурить)\n"
   ]
  },
  {
   "cell_type": "code",
   "execution_count": 10,
   "metadata": {},
   "outputs": [
    {
     "data": {
      "application/vnd.jupyter.widget-view+json": {
       "model_id": "fe1ca1afbd734608af56a2ab4b307a16",
       "version_major": 2,
       "version_minor": 0
      },
      "text/plain": [
       "Loading:   0%|          | 0/1000 [00:00<?, ?it/s]"
      ]
     },
     "metadata": {},
     "output_type": "display_data"
    },
    {
     "data": {
      "application/vnd.jupyter.widget-view+json": {
       "model_id": "c507b557f54441a7ac2a8785e760890d",
       "version_major": 2,
       "version_minor": 0
      },
      "text/plain": [
       "Loading:   0%|          | 0/1000 [00:00<?, ?it/s]"
      ]
     },
     "metadata": {},
     "output_type": "display_data"
    },
    {
     "data": {
      "application/vnd.jupyter.widget-view+json": {
       "model_id": "3888eeb424a5423e9f5ac9fa2fa0cd91",
       "version_major": 2,
       "version_minor": 0
      },
      "text/plain": [
       "Loading:   0%|          | 0/1000 [00:00<?, ?it/s]"
      ]
     },
     "metadata": {},
     "output_type": "display_data"
    },
    {
     "data": {
      "text/html": [
       "<div>\n",
       "<style scoped>\n",
       "    .dataframe tbody tr th:only-of-type {\n",
       "        vertical-align: middle;\n",
       "    }\n",
       "\n",
       "    .dataframe tbody tr th {\n",
       "        vertical-align: top;\n",
       "    }\n",
       "\n",
       "    .dataframe thead th {\n",
       "        text-align: right;\n",
       "    }\n",
       "</style>\n",
       "<table border=\"1\" class=\"dataframe\">\n",
       "  <thead>\n",
       "    <tr style=\"text-align: right;\">\n",
       "      <th></th>\n",
       "      <th>Region</th>\n",
       "      <th>95% Confidence interval</th>\n",
       "      <th>μ</th>\n",
       "      <th>P losses</th>\n",
       "      <th>What to do?</th>\n",
       "    </tr>\n",
       "  </thead>\n",
       "  <tbody>\n",
       "    <tr>\n",
       "      <th>0</th>\n",
       "      <td>Region 1</td>\n",
       "      <td>(-102090094, 947976353)</td>\n",
       "      <td>425938527</td>\n",
       "      <td>Higher than 2,5%</td>\n",
       "      <td>Not to Drill</td>\n",
       "    </tr>\n",
       "    <tr>\n",
       "      <th>1</th>\n",
       "      <td>Region 2</td>\n",
       "      <td>(128123231, 953612982)</td>\n",
       "      <td>518259494</td>\n",
       "      <td>0.3</td>\n",
       "      <td>To drill</td>\n",
       "    </tr>\n",
       "    <tr>\n",
       "      <th>2</th>\n",
       "      <td>Region 3</td>\n",
       "      <td>(-115852609, 989629939)</td>\n",
       "      <td>420194005</td>\n",
       "      <td>Higher than 2,5%</td>\n",
       "      <td>Not to Drill</td>\n",
       "    </tr>\n",
       "  </tbody>\n",
       "</table>\n",
       "</div>"
      ],
      "text/plain": [
       "     Region  95% Confidence interval          μ          P losses  \\\n",
       "0  Region 1  (-102090094, 947976353)  425938527  Higher than 2,5%   \n",
       "1  Region 2   (128123231, 953612982)  518259494               0.3   \n",
       "2  Region 3  (-115852609, 989629939)  420194005  Higher than 2,5%   \n",
       "\n",
       "    What to do?  \n",
       "0  Not to Drill  \n",
       "1      To drill  \n",
       "2  Not to Drill  "
      ]
     },
     "execution_count": 10,
     "metadata": {},
     "output_type": "execute_result"
    }
   ],
   "source": [
    "intervals = []\n",
    "μ_revenues = []\n",
    "risks = []\n",
    "decisions = []\n",
    "\n",
    "for predict_prod, valid_prod, colour in zip([predict_prod_0, predict_prod_1, predict_prod_2], \n",
    "                                            [valid_prod_0, valid_prod_1, valid_prod_2],\n",
    "                                            ['black','red','yellow']):\n",
    "    revenue = []\n",
    "    interval, revenue, μ_revenue, risk, чтоделать = profit_n_risk(predict_prod, valid_prod, colour)\n",
    "    \n",
    "    #revenue.hist(bins = 80, alpha=0.3)\n",
    "    intervals.append(interval)\n",
    "    μ_revenues.append(μ_revenue)\n",
    "    risks.append(risk)\n",
    "    decisions.append(чтоделать)\n",
    "    \n",
    "    final_table = pd.DataFrame(data = (geo_name, intervals, μ_revenues, risks, decisions)).T\n",
    "final_table.columns = ('Region', '95% Confidence interval','μ', 'P losses', 'What to do?')\n",
    "final_table\n"
   ]
  },
  {
   "cell_type": "markdown",
   "metadata": {},
   "source": [
    "<div style=\"border-radius: 15px; box-shadow: 2px 2px 2px; border: 1px solid green; padding: 20px\">\n",
    "        \n",
    "## Conclusion\n",
    "    \n",
    "We were tasked with choosing the region where it would be best to drill a new well for the production company.\n",
    "\n",
    "Oil samples were provided in three regions: in each - 10,000 deposits, where they measured the quality of oil and the volume of its reserves.\n",
    "\n",
    "Using the initial data, we trained a model that estimated the volume of oil reserves according to the characteristics of the field. Based on this data, we were able to forecast the potential profit from 200 of the top 25,000 wells in each region.\n",
    "    \n",
    "The situation for all three regions is as follows:\n",
    "\n",
    "|Region|Average profit|Probability of loss|\n",
    "|-----|-----|----|\n",
    "| Region 1 | ≈ 420 million rubles | Above 2.5% |\n",
    "| Region 2 | ≈ 520 million rubles | Below 2.5% |\n",
    "| Region 3 | ≈ 420 million rubles | Above 2.5% |\n",
    "\n",
    "It is best to choose the second region for drilling. This is also clearly demonstrated by the confidence interval values for all areas.\n",
    "    \n",
    "|Region|Start|End|\n",
    "|-----|-----|----|\n",
    "| Region 1 | ≈ -100 million | ≈ 950 million |\n",
    "| Region 2 | ≈ 100 million | ≈ 950 million |\n",
    "| Region 3 | ≈ -110 million | ≈ 990 million |\n",
    "\n",
    "Negative revenue is so unlikely for the second region that it does not fall within the confidence interval. If you believe the 95% confidence interval, then the probability of losses is zero. At the same time, the potential profit value is approximately the same as in the other areas and amounts to a little more than 900 million rubles.\n",
    "    \n",
    "The only thing that can affect the success of choosing wells in the second region for the current calculation is a drop in the price per barrel of oil.\n",
    "    \n",
    "We advise:\n",
    "\n",
    "- Drill in regions with similar indicators of initial features, as in the Second region\n",
    "- Use our risk calculation model.\n",
    "- Engage in the development of alternative and renewable energy sources.\n",
    "    \n",
    "</div>"
   ]
  },
  {
   "cell_type": "markdown",
   "metadata": {},
   "source": [
    "![](https://i.gifer.com/1blp.gif)\n"
   ]
  }
 ],
 "metadata": {
  "ExecuteTimeLog": [
   {
    "duration": 258,
    "start_time": "2021-11-22T20:00:59.569Z"
   },
   {
    "duration": 1093,
    "start_time": "2021-11-22T20:01:00.578Z"
   },
   {
    "duration": 3479,
    "start_time": "2021-11-22T20:01:01.673Z"
   },
   {
    "duration": 4592,
    "start_time": "2021-11-22T20:01:25.954Z"
   },
   {
    "duration": 4044,
    "start_time": "2021-11-22T20:06:37.288Z"
   },
   {
    "duration": 87,
    "start_time": "2021-11-22T20:07:57.272Z"
   },
   {
    "duration": 76,
    "start_time": "2021-11-22T20:08:04.926Z"
   },
   {
    "duration": 73,
    "start_time": "2021-11-22T20:08:20.971Z"
   },
   {
    "duration": 91,
    "start_time": "2021-11-22T20:08:25.548Z"
   },
   {
    "duration": 85,
    "start_time": "2021-11-22T20:08:31.704Z"
   },
   {
    "duration": 86,
    "start_time": "2021-11-22T20:08:41.291Z"
   },
   {
    "duration": 271,
    "start_time": "2021-11-22T20:18:17.537Z"
   },
   {
    "duration": 231,
    "start_time": "2021-11-22T20:18:25.783Z"
   },
   {
    "duration": 103,
    "start_time": "2021-11-22T20:19:18.234Z"
   },
   {
    "duration": 12,
    "start_time": "2021-11-22T20:19:22.710Z"
   },
   {
    "duration": 138,
    "start_time": "2021-11-22T20:19:32.434Z"
   },
   {
    "duration": 184,
    "start_time": "2021-11-22T20:20:20.477Z"
   },
   {
    "duration": 6763,
    "start_time": "2021-11-22T20:21:54.815Z"
   },
   {
    "duration": 3109,
    "start_time": "2021-11-22T20:22:12.202Z"
   },
   {
    "duration": 2932,
    "start_time": "2021-11-22T20:22:20.504Z"
   },
   {
    "duration": 2821,
    "start_time": "2021-11-22T20:22:28.013Z"
   },
   {
    "duration": 3057,
    "start_time": "2021-11-22T20:22:35.145Z"
   },
   {
    "duration": 3839,
    "start_time": "2021-11-22T20:22:41.125Z"
   },
   {
    "duration": 2563,
    "start_time": "2021-11-22T20:25:38.468Z"
   },
   {
    "duration": 3323,
    "start_time": "2021-11-22T20:25:49.553Z"
   },
   {
    "duration": 7077,
    "start_time": "2021-11-22T20:25:56.267Z"
   },
   {
    "duration": 3798,
    "start_time": "2021-11-22T20:26:09.336Z"
   },
   {
    "duration": 3,
    "start_time": "2021-11-22T20:28:20.287Z"
   },
   {
    "duration": 3,
    "start_time": "2021-11-22T20:28:44.176Z"
   },
   {
    "duration": 4920,
    "start_time": "2021-11-22T20:29:45.298Z"
   },
   {
    "duration": 3695,
    "start_time": "2021-11-22T20:30:02.626Z"
   },
   {
    "duration": 3689,
    "start_time": "2021-11-22T20:30:09.058Z"
   },
   {
    "duration": 4048,
    "start_time": "2021-11-22T20:30:19.788Z"
   },
   {
    "duration": 1563,
    "start_time": "2021-11-22T20:31:34.458Z"
   },
   {
    "duration": 1361,
    "start_time": "2021-11-22T20:32:04.437Z"
   },
   {
    "duration": 3650,
    "start_time": "2021-11-22T20:35:06.289Z"
   },
   {
    "duration": 3653,
    "start_time": "2021-11-22T20:35:12.446Z"
   },
   {
    "duration": 5624,
    "start_time": "2021-11-22T20:35:23.526Z"
   },
   {
    "duration": 3833,
    "start_time": "2021-11-22T20:36:23.410Z"
   },
   {
    "duration": 3810,
    "start_time": "2021-11-22T20:36:45.988Z"
   },
   {
    "duration": 3956,
    "start_time": "2021-11-22T20:36:52.878Z"
   },
   {
    "duration": 3887,
    "start_time": "2021-11-22T20:38:07.204Z"
   },
   {
    "duration": 3714,
    "start_time": "2021-11-22T20:38:39.227Z"
   },
   {
    "duration": 4051,
    "start_time": "2021-11-22T20:38:54.270Z"
   },
   {
    "duration": 234,
    "start_time": "2021-11-22T20:49:47.701Z"
   },
   {
    "duration": 264,
    "start_time": "2021-11-22T20:50:00.703Z"
   },
   {
    "duration": 95,
    "start_time": "2021-11-22T20:50:16.206Z"
   },
   {
    "duration": 94,
    "start_time": "2021-11-22T21:02:57.868Z"
   },
   {
    "duration": 91,
    "start_time": "2021-11-22T21:03:07.312Z"
   },
   {
    "duration": 6484,
    "start_time": "2021-11-22T21:03:28.686Z"
   },
   {
    "duration": 90,
    "start_time": "2021-11-22T21:03:43.184Z"
   },
   {
    "duration": 90,
    "start_time": "2021-11-22T21:04:55.510Z"
   },
   {
    "duration": 81,
    "start_time": "2021-11-22T21:08:53.695Z"
   },
   {
    "duration": 102,
    "start_time": "2021-11-22T21:09:24.552Z"
   },
   {
    "duration": 120,
    "start_time": "2021-11-22T21:09:43.069Z"
   },
   {
    "duration": 97,
    "start_time": "2021-11-22T21:09:53.774Z"
   },
   {
    "duration": 5,
    "start_time": "2021-11-22T21:15:33.098Z"
   },
   {
    "duration": 643,
    "start_time": "2021-11-22T21:15:35.469Z"
   },
   {
    "duration": 5,
    "start_time": "2021-11-22T21:15:45.038Z"
   },
   {
    "duration": 4,
    "start_time": "2021-11-22T21:15:49.963Z"
   },
   {
    "duration": 502,
    "start_time": "2021-11-22T21:15:50.754Z"
   },
   {
    "duration": 97,
    "start_time": "2021-11-22T21:16:34.449Z"
   },
   {
    "duration": 5,
    "start_time": "2021-11-22T21:17:04.117Z"
   },
   {
    "duration": 414,
    "start_time": "2021-11-22T21:17:06.287Z"
   },
   {
    "duration": 5,
    "start_time": "2021-11-22T21:17:41.549Z"
   },
   {
    "duration": 460,
    "start_time": "2021-11-22T21:17:43.579Z"
   },
   {
    "duration": 5,
    "start_time": "2021-11-22T21:18:00.138Z"
   },
   {
    "duration": 385,
    "start_time": "2021-11-22T21:18:00.820Z"
   },
   {
    "duration": 5,
    "start_time": "2021-11-22T21:18:36.675Z"
   },
   {
    "duration": 363,
    "start_time": "2021-11-22T21:18:38.642Z"
   },
   {
    "duration": 4,
    "start_time": "2021-11-22T21:18:56.039Z"
   },
   {
    "duration": 432,
    "start_time": "2021-11-22T21:18:57.671Z"
   },
   {
    "duration": 427,
    "start_time": "2021-11-22T21:19:33.877Z"
   },
   {
    "duration": 287,
    "start_time": "2021-11-22T21:19:39.611Z"
   },
   {
    "duration": 429,
    "start_time": "2021-11-22T21:19:50.671Z"
   },
   {
    "duration": 365,
    "start_time": "2021-11-22T21:20:06.531Z"
   },
   {
    "duration": 382,
    "start_time": "2021-11-22T21:20:17.821Z"
   },
   {
    "duration": 372,
    "start_time": "2021-11-22T21:20:25.231Z"
   },
   {
    "duration": 399,
    "start_time": "2021-11-22T21:20:30.099Z"
   },
   {
    "duration": 452,
    "start_time": "2021-11-22T21:20:50.336Z"
   },
   {
    "duration": 3834,
    "start_time": "2021-11-22T21:23:06.803Z"
   },
   {
    "duration": 103,
    "start_time": "2021-11-22T21:23:17.795Z"
   },
   {
    "duration": 369,
    "start_time": "2021-11-22T21:23:30.435Z"
   },
   {
    "duration": 1719,
    "start_time": "2021-11-22T21:24:17.073Z"
   },
   {
    "duration": 1605,
    "start_time": "2021-11-22T21:24:29.792Z"
   },
   {
    "duration": 1581,
    "start_time": "2021-11-22T21:25:01.519Z"
   },
   {
    "duration": 5,
    "start_time": "2021-11-22T21:25:08.618Z"
   },
   {
    "duration": 396,
    "start_time": "2021-11-22T21:25:55.499Z"
   },
   {
    "duration": 448,
    "start_time": "2021-11-22T21:26:01.647Z"
   },
   {
    "duration": 5,
    "start_time": "2021-11-22T21:28:02.963Z"
   },
   {
    "duration": 4,
    "start_time": "2021-11-22T21:28:06.860Z"
   },
   {
    "duration": 5,
    "start_time": "2021-11-22T21:28:13.090Z"
   },
   {
    "duration": 5,
    "start_time": "2021-11-22T21:28:20.483Z"
   },
   {
    "duration": 4,
    "start_time": "2021-11-22T21:28:27.408Z"
   },
   {
    "duration": 6,
    "start_time": "2021-11-22T21:28:32.044Z"
   },
   {
    "duration": 91,
    "start_time": "2021-11-22T21:30:27.510Z"
   },
   {
    "duration": 5,
    "start_time": "2021-11-22T21:30:37.258Z"
   },
   {
    "duration": 3720,
    "start_time": "2021-11-22T21:30:37.264Z"
   },
   {
    "duration": 122,
    "start_time": "2021-11-22T21:30:40.988Z"
   },
   {
    "duration": 94,
    "start_time": "2021-11-22T21:30:41.112Z"
   },
   {
    "duration": 4,
    "start_time": "2021-11-22T21:30:48.787Z"
   },
   {
    "duration": 469,
    "start_time": "2021-11-22T21:30:50.217Z"
   },
   {
    "duration": 583,
    "start_time": "2021-11-22T21:31:14.699Z"
   },
   {
    "duration": 362,
    "start_time": "2021-11-22T21:31:21.764Z"
   },
   {
    "duration": 465,
    "start_time": "2021-11-22T21:31:28.123Z"
   },
   {
    "duration": 5,
    "start_time": "2021-11-22T21:31:43.803Z"
   },
   {
    "duration": 381,
    "start_time": "2021-11-22T21:31:45.423Z"
   },
   {
    "duration": 5,
    "start_time": "2021-11-22T21:32:30.756Z"
   },
   {
    "duration": 445,
    "start_time": "2021-11-22T21:32:33.852Z"
   },
   {
    "duration": 5,
    "start_time": "2021-11-22T21:32:41.462Z"
   },
   {
    "duration": 388,
    "start_time": "2021-11-22T21:32:42.814Z"
   },
   {
    "duration": 4,
    "start_time": "2021-11-22T21:32:48.078Z"
   },
   {
    "duration": 395,
    "start_time": "2021-11-22T21:32:49.305Z"
   },
   {
    "duration": 5,
    "start_time": "2021-11-22T21:33:06.368Z"
   },
   {
    "duration": 381,
    "start_time": "2021-11-22T21:33:07.322Z"
   },
   {
    "duration": 5,
    "start_time": "2021-11-22T21:33:15.624Z"
   },
   {
    "duration": 3664,
    "start_time": "2021-11-22T21:33:15.630Z"
   },
   {
    "duration": 143,
    "start_time": "2021-11-22T21:33:19.295Z"
   },
   {
    "duration": 102,
    "start_time": "2021-11-22T21:33:19.440Z"
   },
   {
    "duration": 5,
    "start_time": "2021-11-22T21:33:19.543Z"
   },
   {
    "duration": 456,
    "start_time": "2021-11-22T21:33:19.549Z"
   },
   {
    "duration": 596,
    "start_time": "2021-11-22T21:33:20.007Z"
   },
   {
    "duration": 5,
    "start_time": "2021-11-22T21:35:16.308Z"
   },
   {
    "duration": 447,
    "start_time": "2021-11-22T21:35:17.452Z"
   },
   {
    "duration": 5,
    "start_time": "2021-11-22T21:35:26.352Z"
   },
   {
    "duration": 389,
    "start_time": "2021-11-22T21:35:27.409Z"
   },
   {
    "duration": 5,
    "start_time": "2021-11-22T21:35:50.306Z"
   },
   {
    "duration": 342,
    "start_time": "2021-11-22T21:35:51.158Z"
   },
   {
    "duration": 5,
    "start_time": "2021-11-22T21:36:12.040Z"
   },
   {
    "duration": 418,
    "start_time": "2021-11-22T21:36:13.486Z"
   },
   {
    "duration": 5,
    "start_time": "2021-11-22T21:36:36.502Z"
   },
   {
    "duration": 4186,
    "start_time": "2021-11-22T21:36:36.509Z"
   },
   {
    "duration": 139,
    "start_time": "2021-11-22T21:36:40.697Z"
   },
   {
    "duration": 99,
    "start_time": "2021-11-22T21:36:40.838Z"
   },
   {
    "duration": 5,
    "start_time": "2021-11-22T21:36:40.939Z"
   },
   {
    "duration": 453,
    "start_time": "2021-11-22T21:36:40.945Z"
   },
   {
    "duration": 597,
    "start_time": "2021-11-22T21:36:41.400Z"
   },
   {
    "duration": 5,
    "start_time": "2021-11-22T21:37:39.678Z"
   },
   {
    "duration": 387,
    "start_time": "2021-11-22T21:37:41.011Z"
   },
   {
    "duration": 5,
    "start_time": "2021-11-22T21:38:49.088Z"
   },
   {
    "duration": 655,
    "start_time": "2021-11-22T21:38:50.150Z"
   },
   {
    "duration": 5,
    "start_time": "2021-11-22T21:38:58.313Z"
   },
   {
    "duration": 378,
    "start_time": "2021-11-22T21:38:59.120Z"
   },
   {
    "duration": 438,
    "start_time": "2021-11-22T21:39:15.166Z"
   },
   {
    "duration": 5,
    "start_time": "2021-11-22T21:39:20.930Z"
   },
   {
    "duration": 421,
    "start_time": "2021-11-22T21:39:21.681Z"
   },
   {
    "duration": 408,
    "start_time": "2021-11-22T21:39:29.195Z"
   },
   {
    "duration": 5,
    "start_time": "2021-11-22T21:39:34.984Z"
   },
   {
    "duration": 456,
    "start_time": "2021-11-22T21:39:37.047Z"
   },
   {
    "duration": 5,
    "start_time": "2021-11-22T21:39:54.592Z"
   },
   {
    "duration": 334,
    "start_time": "2021-11-22T21:39:55.473Z"
   },
   {
    "duration": 424,
    "start_time": "2021-11-22T21:39:56.571Z"
   },
   {
    "duration": 4,
    "start_time": "2021-11-22T21:40:10.551Z"
   },
   {
    "duration": 382,
    "start_time": "2021-11-22T21:40:10.820Z"
   },
   {
    "duration": 417,
    "start_time": "2021-11-22T21:40:11.785Z"
   },
   {
    "duration": 5,
    "start_time": "2021-11-22T21:40:42.032Z"
   },
   {
    "duration": 368,
    "start_time": "2021-11-22T21:40:42.532Z"
   },
   {
    "duration": 392,
    "start_time": "2021-11-22T21:40:43.603Z"
   },
   {
    "duration": 362,
    "start_time": "2021-11-22T21:42:14.241Z"
   },
   {
    "duration": 4,
    "start_time": "2021-11-22T21:52:40.850Z"
   },
   {
    "duration": 81,
    "start_time": "2021-11-22T21:53:22.717Z"
   },
   {
    "duration": 4,
    "start_time": "2021-11-22T21:53:24.600Z"
   },
   {
    "duration": 4,
    "start_time": "2021-11-22T21:53:37.769Z"
   },
   {
    "duration": 4,
    "start_time": "2021-11-22T21:53:47.195Z"
   },
   {
    "duration": 4,
    "start_time": "2021-11-22T21:54:05.433Z"
   },
   {
    "duration": 4,
    "start_time": "2021-11-22T22:00:09.913Z"
   },
   {
    "duration": 4,
    "start_time": "2021-11-22T22:05:59.128Z"
   },
   {
    "duration": 389,
    "start_time": "2021-11-23T12:41:27.064Z"
   },
   {
    "duration": 1220,
    "start_time": "2021-11-23T12:41:30.517Z"
   },
   {
    "duration": 2089,
    "start_time": "2021-11-23T12:41:31.738Z"
   },
   {
    "duration": 2296,
    "start_time": "2021-11-23T12:42:29.322Z"
   },
   {
    "duration": 3363,
    "start_time": "2021-11-23T12:43:23.170Z"
   },
   {
    "duration": 3531,
    "start_time": "2021-11-23T12:43:33.856Z"
   },
   {
    "duration": 2266,
    "start_time": "2021-11-23T12:43:43.697Z"
   },
   {
    "duration": 2165,
    "start_time": "2021-11-23T12:44:16.305Z"
   },
   {
    "duration": 97,
    "start_time": "2021-11-23T12:44:23.427Z"
   },
   {
    "duration": 88,
    "start_time": "2021-11-23T12:44:27.084Z"
   },
   {
    "duration": 2281,
    "start_time": "2021-11-23T12:44:30.296Z"
   },
   {
    "duration": 1981,
    "start_time": "2021-11-23T12:46:59.457Z"
   },
   {
    "duration": 2047,
    "start_time": "2021-11-23T12:47:07.014Z"
   },
   {
    "duration": 3175,
    "start_time": "2021-11-23T12:51:04.701Z"
   },
   {
    "duration": 3305,
    "start_time": "2021-11-23T12:53:23.712Z"
   },
   {
    "duration": 3237,
    "start_time": "2021-11-23T12:54:02.218Z"
   },
   {
    "duration": 3234,
    "start_time": "2021-11-23T12:54:12.435Z"
   },
   {
    "duration": 3409,
    "start_time": "2021-11-23T12:54:26.678Z"
   },
   {
    "duration": 3571,
    "start_time": "2021-11-23T12:54:56.846Z"
   },
   {
    "duration": 3147,
    "start_time": "2021-11-23T12:55:05.362Z"
   },
   {
    "duration": 4164,
    "start_time": "2021-11-23T12:55:29.806Z"
   },
   {
    "duration": 4135,
    "start_time": "2021-11-23T12:55:58.992Z"
   },
   {
    "duration": 4100,
    "start_time": "2021-11-23T12:56:12.644Z"
   },
   {
    "duration": 2437,
    "start_time": "2021-11-23T12:56:31.767Z"
   },
   {
    "duration": 3086,
    "start_time": "2021-11-23T12:56:39.805Z"
   },
   {
    "duration": 2121,
    "start_time": "2021-11-23T12:58:58.489Z"
   },
   {
    "duration": 9857,
    "start_time": "2021-11-23T12:59:08.972Z"
   },
   {
    "duration": 8730,
    "start_time": "2021-11-23T12:59:26.744Z"
   },
   {
    "duration": 2567,
    "start_time": "2021-11-23T12:59:48.311Z"
   },
   {
    "duration": 2779,
    "start_time": "2021-11-23T13:00:09.534Z"
   },
   {
    "duration": 2194,
    "start_time": "2021-11-23T13:01:25.652Z"
   },
   {
    "duration": 2106,
    "start_time": "2021-11-23T13:01:41.942Z"
   },
   {
    "duration": 2349,
    "start_time": "2021-11-23T13:02:45.503Z"
   },
   {
    "duration": 2065,
    "start_time": "2021-11-23T13:03:15.621Z"
   },
   {
    "duration": 2124,
    "start_time": "2021-11-23T17:02:39.903Z"
   },
   {
    "duration": 2637,
    "start_time": "2021-11-23T17:05:19.101Z"
   },
   {
    "duration": 2157,
    "start_time": "2021-11-23T17:05:31.679Z"
   },
   {
    "duration": 5,
    "start_time": "2021-11-23T17:09:20.385Z"
   },
   {
    "duration": 2093,
    "start_time": "2021-11-23T17:09:31.038Z"
   },
   {
    "duration": 2251,
    "start_time": "2021-11-23T17:09:54.168Z"
   },
   {
    "duration": 2519,
    "start_time": "2021-11-23T17:10:14.566Z"
   },
   {
    "duration": 2327,
    "start_time": "2021-11-23T17:10:52.292Z"
   },
   {
    "duration": 2024,
    "start_time": "2021-11-23T17:13:07.901Z"
   },
   {
    "duration": 52,
    "start_time": "2021-11-23T17:14:55.209Z"
   },
   {
    "duration": 2550,
    "start_time": "2021-11-23T17:15:00.980Z"
   },
   {
    "duration": 2644,
    "start_time": "2021-11-23T17:15:17.426Z"
   },
   {
    "duration": 85,
    "start_time": "2021-11-23T17:20:22.204Z"
   },
   {
    "duration": 124,
    "start_time": "2021-11-23T17:20:55.353Z"
   },
   {
    "duration": 93,
    "start_time": "2021-11-23T17:21:05.545Z"
   },
   {
    "duration": 87,
    "start_time": "2021-11-23T17:21:17.929Z"
   },
   {
    "duration": 91,
    "start_time": "2021-11-23T17:22:07.896Z"
   },
   {
    "duration": 80,
    "start_time": "2021-11-23T17:22:15.421Z"
   },
   {
    "duration": 87,
    "start_time": "2021-11-23T17:22:25.838Z"
   },
   {
    "duration": 90,
    "start_time": "2021-11-23T17:22:44.945Z"
   },
   {
    "duration": 95,
    "start_time": "2021-11-23T17:23:15.702Z"
   },
   {
    "duration": 105,
    "start_time": "2021-11-23T17:23:20.600Z"
   },
   {
    "duration": 224,
    "start_time": "2021-11-23T17:23:25.785Z"
   },
   {
    "duration": 149,
    "start_time": "2021-11-23T17:23:47.539Z"
   },
   {
    "duration": 90,
    "start_time": "2021-11-23T17:23:52.146Z"
   },
   {
    "duration": 90,
    "start_time": "2021-11-23T17:24:24.866Z"
   },
   {
    "duration": 17293,
    "start_time": "2021-11-23T17:24:49.382Z"
   },
   {
    "duration": 6940,
    "start_time": "2021-11-23T17:26:30.626Z"
   },
   {
    "duration": 352,
    "start_time": "2021-11-23T17:26:40.049Z"
   },
   {
    "duration": 352,
    "start_time": "2021-11-23T17:26:44.555Z"
   },
   {
    "duration": 350,
    "start_time": "2021-11-23T17:26:51.445Z"
   },
   {
    "duration": 356,
    "start_time": "2021-11-23T17:26:57.768Z"
   },
   {
    "duration": 369,
    "start_time": "2021-11-23T17:27:03.848Z"
   },
   {
    "duration": 7380,
    "start_time": "2021-11-23T17:27:14.538Z"
   },
   {
    "duration": 2389,
    "start_time": "2021-11-23T17:27:37.139Z"
   },
   {
    "duration": 668,
    "start_time": "2021-11-23T17:27:45.887Z"
   },
   {
    "duration": 94,
    "start_time": "2021-11-23T17:27:56.493Z"
   },
   {
    "duration": 405,
    "start_time": "2021-11-23T17:28:01.641Z"
   },
   {
    "duration": 393,
    "start_time": "2021-11-23T17:28:39.189Z"
   },
   {
    "duration": 92,
    "start_time": "2021-11-23T17:29:41.890Z"
   },
   {
    "duration": 3584,
    "start_time": "2021-11-23T17:29:49.550Z"
   },
   {
    "duration": 2400,
    "start_time": "2021-11-23T17:30:53.063Z"
   },
   {
    "duration": 2247,
    "start_time": "2021-11-23T17:31:09.014Z"
   },
   {
    "duration": 3515,
    "start_time": "2021-11-23T17:31:53.285Z"
   },
   {
    "duration": 3723,
    "start_time": "2021-11-23T17:31:58.078Z"
   },
   {
    "duration": 3761,
    "start_time": "2021-11-23T17:32:19.270Z"
   },
   {
    "duration": 3628,
    "start_time": "2021-11-23T17:32:41.568Z"
   },
   {
    "duration": 4192,
    "start_time": "2021-11-23T17:32:59.738Z"
   },
   {
    "duration": 3742,
    "start_time": "2021-11-23T17:33:22.504Z"
   },
   {
    "duration": 2306,
    "start_time": "2021-11-23T17:37:08.308Z"
   },
   {
    "duration": 2353,
    "start_time": "2021-11-23T17:37:22.654Z"
   },
   {
    "duration": 2060,
    "start_time": "2021-11-23T17:37:33.072Z"
   },
   {
    "duration": 2370,
    "start_time": "2021-11-23T17:37:36.521Z"
   },
   {
    "duration": 2068,
    "start_time": "2021-11-23T17:37:39.097Z"
   },
   {
    "duration": 2307,
    "start_time": "2021-11-23T17:37:46.128Z"
   },
   {
    "duration": 1991,
    "start_time": "2021-11-23T17:38:03.784Z"
   },
   {
    "duration": 2005,
    "start_time": "2021-11-23T17:38:15.372Z"
   },
   {
    "duration": 3645,
    "start_time": "2021-11-23T17:38:37.364Z"
   },
   {
    "duration": 2905,
    "start_time": "2021-11-23T17:38:56.106Z"
   },
   {
    "duration": 3550,
    "start_time": "2021-11-23T17:39:07.016Z"
   },
   {
    "duration": 3748,
    "start_time": "2021-11-23T17:39:40.834Z"
   },
   {
    "duration": 3814,
    "start_time": "2021-11-23T17:39:53.600Z"
   },
   {
    "duration": 3410,
    "start_time": "2021-11-23T17:39:59.294Z"
   },
   {
    "duration": 2439,
    "start_time": "2021-11-23T17:40:21.140Z"
   },
   {
    "duration": 3816,
    "start_time": "2021-11-23T17:40:32.965Z"
   },
   {
    "duration": 3686,
    "start_time": "2021-11-23T17:40:46.999Z"
   },
   {
    "duration": 3743,
    "start_time": "2021-11-23T17:41:44.178Z"
   },
   {
    "duration": 3824,
    "start_time": "2021-11-23T17:52:29.516Z"
   },
   {
    "duration": 4047,
    "start_time": "2021-11-23T17:52:55.981Z"
   },
   {
    "duration": 3184,
    "start_time": "2021-11-23T17:59:26.686Z"
   },
   {
    "duration": 3,
    "start_time": "2021-11-23T19:04:00.014Z"
   },
   {
    "duration": 402,
    "start_time": "2021-11-23T19:04:00.019Z"
   },
   {
    "duration": 3297,
    "start_time": "2021-11-23T19:04:00.423Z"
   },
   {
    "duration": 389,
    "start_time": "2021-11-23T19:04:08.973Z"
   },
   {
    "duration": 3175,
    "start_time": "2021-11-23T19:04:19.917Z"
   },
   {
    "duration": 148,
    "start_time": "2021-11-23T19:04:29.794Z"
   },
   {
    "duration": 97,
    "start_time": "2021-11-23T19:04:35.811Z"
   },
   {
    "duration": 123,
    "start_time": "2021-11-23T19:04:40.904Z"
   },
   {
    "duration": 383,
    "start_time": "2021-11-23T19:04:44.176Z"
   },
   {
    "duration": 425,
    "start_time": "2021-11-23T19:04:53.527Z"
   },
   {
    "duration": 5,
    "start_time": "2021-11-23T19:05:00.204Z"
   },
   {
    "duration": 5,
    "start_time": "2021-11-23T19:15:00.034Z"
   },
   {
    "duration": 5,
    "start_time": "2021-11-23T19:15:41.936Z"
   },
   {
    "duration": 85,
    "start_time": "2021-11-23T19:16:03.571Z"
   },
   {
    "duration": 5,
    "start_time": "2021-11-23T19:16:11.437Z"
   },
   {
    "duration": 5,
    "start_time": "2021-11-23T19:16:26.331Z"
   },
   {
    "duration": 3,
    "start_time": "2021-11-23T19:23:44.346Z"
   },
   {
    "duration": 4,
    "start_time": "2021-11-23T19:23:45.994Z"
   },
   {
    "duration": 269,
    "start_time": "2021-11-23T19:23:46.780Z"
   },
   {
    "duration": 509,
    "start_time": "2021-11-23T19:24:21.715Z"
   },
   {
    "duration": 4,
    "start_time": "2021-11-23T19:24:56.522Z"
   },
   {
    "duration": 9156,
    "start_time": "2021-11-23T19:24:57.625Z"
   },
   {
    "duration": 9261,
    "start_time": "2021-11-23T19:25:21.141Z"
   },
   {
    "duration": 4,
    "start_time": "2021-11-23T19:27:42.172Z"
   },
   {
    "duration": 4268,
    "start_time": "2021-11-23T19:27:43.002Z"
   },
   {
    "duration": 5,
    "start_time": "2021-11-23T19:28:07.214Z"
   },
   {
    "duration": 561,
    "start_time": "2021-11-23T19:28:07.661Z"
   },
   {
    "duration": 4,
    "start_time": "2021-11-23T19:28:21.592Z"
   },
   {
    "duration": 11448,
    "start_time": "2021-11-23T19:28:22.271Z"
   },
   {
    "duration": 5,
    "start_time": "2021-11-23T19:29:28.204Z"
   },
   {
    "duration": 10403,
    "start_time": "2021-11-23T19:29:28.668Z"
   },
   {
    "duration": 6,
    "start_time": "2021-11-23T19:29:44.619Z"
   },
   {
    "duration": 11078,
    "start_time": "2021-11-23T19:29:45.145Z"
   },
   {
    "duration": 10743,
    "start_time": "2021-11-23T19:31:37.264Z"
   },
   {
    "duration": 10760,
    "start_time": "2021-11-23T19:32:08.150Z"
   },
   {
    "duration": 11723,
    "start_time": "2021-11-23T19:32:45.151Z"
   },
   {
    "duration": 11189,
    "start_time": "2021-11-23T19:33:21.059Z"
   },
   {
    "duration": 10582,
    "start_time": "2021-11-23T19:33:38.823Z"
   },
   {
    "duration": 10724,
    "start_time": "2021-11-23T19:33:53.758Z"
   },
   {
    "duration": 10483,
    "start_time": "2021-11-23T19:34:10.877Z"
   },
   {
    "duration": 5,
    "start_time": "2021-11-23T19:37:54.727Z"
   },
   {
    "duration": 10295,
    "start_time": "2021-11-23T19:37:55.937Z"
   },
   {
    "duration": 4,
    "start_time": "2021-11-23T19:41:47.539Z"
   },
   {
    "duration": 10094,
    "start_time": "2021-11-23T19:41:48.450Z"
   },
   {
    "duration": 9897,
    "start_time": "2021-11-23T19:56:41.685Z"
   },
   {
    "duration": 4,
    "start_time": "2021-11-23T20:05:46.960Z"
   },
   {
    "duration": 10019,
    "start_time": "2021-11-23T20:05:47.681Z"
   },
   {
    "duration": 5,
    "start_time": "2021-11-23T20:07:16.755Z"
   },
   {
    "duration": 10690,
    "start_time": "2021-11-23T20:07:17.398Z"
   },
   {
    "duration": 5,
    "start_time": "2021-11-23T20:08:51.529Z"
   },
   {
    "duration": 3675,
    "start_time": "2021-11-23T20:08:52.080Z"
   },
   {
    "duration": 4,
    "start_time": "2021-11-23T20:09:19.289Z"
   },
   {
    "duration": 10508,
    "start_time": "2021-11-23T20:09:19.719Z"
   },
   {
    "duration": 6,
    "start_time": "2021-11-23T20:17:42.459Z"
   },
   {
    "duration": 3,
    "start_time": "2021-11-23T20:17:44.247Z"
   },
   {
    "duration": 4,
    "start_time": "2021-11-23T20:17:44.799Z"
   },
   {
    "duration": 9716,
    "start_time": "2021-11-23T20:17:45.904Z"
   },
   {
    "duration": 5,
    "start_time": "2021-11-23T20:18:15.716Z"
   },
   {
    "duration": 3,
    "start_time": "2021-11-23T20:18:16.440Z"
   },
   {
    "duration": 4,
    "start_time": "2021-11-23T20:18:16.843Z"
   },
   {
    "duration": 9902,
    "start_time": "2021-11-23T20:18:17.500Z"
   },
   {
    "duration": 10382,
    "start_time": "2021-11-23T20:21:41.509Z"
   },
   {
    "duration": 4,
    "start_time": "2021-11-23T20:22:28.938Z"
   },
   {
    "duration": 3638,
    "start_time": "2021-11-23T20:22:29.620Z"
   },
   {
    "duration": 85,
    "start_time": "2021-11-23T20:26:24.320Z"
   },
   {
    "duration": 3616,
    "start_time": "2021-11-23T20:26:24.639Z"
   },
   {
    "duration": 5,
    "start_time": "2021-11-23T20:26:37.034Z"
   },
   {
    "duration": 9915,
    "start_time": "2021-11-23T20:26:37.353Z"
   },
   {
    "duration": 4,
    "start_time": "2021-11-23T20:26:52.083Z"
   },
   {
    "duration": 9901,
    "start_time": "2021-11-23T20:26:53.897Z"
   },
   {
    "duration": 3287,
    "start_time": "2021-11-23T20:27:19.297Z"
   },
   {
    "duration": 3227,
    "start_time": "2021-11-23T20:27:31.800Z"
   },
   {
    "duration": 5,
    "start_time": "2021-11-23T20:30:27.490Z"
   },
   {
    "duration": 3,
    "start_time": "2021-11-23T20:30:28.471Z"
   },
   {
    "duration": 5,
    "start_time": "2021-11-23T20:30:29.007Z"
   },
   {
    "duration": 10673,
    "start_time": "2021-11-23T20:30:29.643Z"
   },
   {
    "duration": 10307,
    "start_time": "2021-11-23T20:31:39.571Z"
   },
   {
    "duration": 5,
    "start_time": "2021-11-23T20:34:56.950Z"
   },
   {
    "duration": 10231,
    "start_time": "2021-11-23T20:34:57.184Z"
   },
   {
    "duration": 4,
    "start_time": "2021-11-23T20:38:30.293Z"
   },
   {
    "duration": 408,
    "start_time": "2021-11-23T20:38:30.301Z"
   },
   {
    "duration": 3379,
    "start_time": "2021-11-23T20:38:30.711Z"
   },
   {
    "duration": 145,
    "start_time": "2021-11-23T20:38:34.093Z"
   },
   {
    "duration": 105,
    "start_time": "2021-11-23T20:38:34.244Z"
   },
   {
    "duration": 5,
    "start_time": "2021-11-23T20:38:34.351Z"
   },
   {
    "duration": 404,
    "start_time": "2021-11-23T20:38:34.358Z"
   },
   {
    "duration": 588,
    "start_time": "2021-11-23T20:38:34.764Z"
   },
   {
    "duration": 91,
    "start_time": "2021-11-23T20:38:35.355Z"
   },
   {
    "duration": 8,
    "start_time": "2021-11-23T20:38:35.449Z"
   },
   {
    "duration": 6,
    "start_time": "2021-11-23T20:38:35.544Z"
   },
   {
    "duration": 10016,
    "start_time": "2021-11-23T20:38:35.552Z"
   },
   {
    "duration": 86,
    "start_time": "2021-11-23T20:40:23.922Z"
   },
   {
    "duration": 10286,
    "start_time": "2021-11-23T20:40:24.300Z"
   },
   {
    "duration": 7,
    "start_time": "2021-11-23T20:40:34.589Z"
   },
   {
    "duration": 10366,
    "start_time": "2021-11-23T20:40:34.737Z"
   },
   {
    "duration": 5,
    "start_time": "2021-11-23T20:43:06.534Z"
   },
   {
    "duration": 10239,
    "start_time": "2021-11-23T20:43:07.619Z"
   },
   {
    "duration": 5,
    "start_time": "2021-11-23T20:43:21.507Z"
   },
   {
    "duration": 10547,
    "start_time": "2021-11-23T20:43:22.524Z"
   },
   {
    "duration": 5,
    "start_time": "2021-11-23T20:45:01.360Z"
   },
   {
    "duration": 4,
    "start_time": "2021-11-23T20:45:13.278Z"
   },
   {
    "duration": 10278,
    "start_time": "2021-11-23T20:45:13.284Z"
   },
   {
    "duration": 5,
    "start_time": "2021-11-23T20:47:13.306Z"
   },
   {
    "duration": 10235,
    "start_time": "2021-11-23T20:47:13.313Z"
   },
   {
    "duration": 6,
    "start_time": "2021-11-23T20:47:29.149Z"
   },
   {
    "duration": 10222,
    "start_time": "2021-11-23T20:47:29.565Z"
   },
   {
    "duration": 5,
    "start_time": "2021-11-23T20:49:02.270Z"
   },
   {
    "duration": 10028,
    "start_time": "2021-11-23T20:49:02.989Z"
   },
   {
    "duration": 6,
    "start_time": "2021-11-23T20:50:22.240Z"
   },
   {
    "duration": 10744,
    "start_time": "2021-11-23T20:50:22.903Z"
   },
   {
    "duration": 5,
    "start_time": "2021-11-23T20:51:23.748Z"
   },
   {
    "duration": 10676,
    "start_time": "2021-11-23T20:51:24.219Z"
   },
   {
    "duration": 9943,
    "start_time": "2021-11-23T20:52:21.734Z"
   },
   {
    "duration": 1131,
    "start_time": "2021-11-24T11:24:39.320Z"
   },
   {
    "duration": 790,
    "start_time": "2021-11-24T11:24:40.453Z"
   },
   {
    "duration": 3,
    "start_time": "2021-11-24T11:24:52.840Z"
   },
   {
    "duration": 382,
    "start_time": "2021-11-24T11:25:15.511Z"
   },
   {
    "duration": 3119,
    "start_time": "2021-11-24T11:25:20.660Z"
   },
   {
    "duration": 3081,
    "start_time": "2021-11-24T11:25:29.820Z"
   },
   {
    "duration": 3379,
    "start_time": "2021-11-24T11:25:41.670Z"
   },
   {
    "duration": 3078,
    "start_time": "2021-11-24T11:25:51.459Z"
   },
   {
    "duration": 3,
    "start_time": "2021-11-24T11:32:13.238Z"
   },
   {
    "duration": 389,
    "start_time": "2021-11-24T11:32:13.243Z"
   },
   {
    "duration": 3121,
    "start_time": "2021-11-24T11:32:13.634Z"
   },
   {
    "duration": 179,
    "start_time": "2021-11-24T11:32:16.757Z"
   },
   {
    "duration": 103,
    "start_time": "2021-11-24T11:32:16.938Z"
   },
   {
    "duration": 4,
    "start_time": "2021-11-24T11:32:17.043Z"
   },
   {
    "duration": 452,
    "start_time": "2021-11-24T11:32:17.049Z"
   },
   {
    "duration": 586,
    "start_time": "2021-11-24T11:32:17.503Z"
   },
   {
    "duration": 97,
    "start_time": "2021-11-24T11:32:18.091Z"
   },
   {
    "duration": 23,
    "start_time": "2021-11-24T11:32:18.190Z"
   },
   {
    "duration": 8,
    "start_time": "2021-11-24T11:32:18.214Z"
   },
   {
    "duration": 9483,
    "start_time": "2021-11-24T11:32:18.224Z"
   },
   {
    "duration": 363,
    "start_time": "2021-11-24T13:18:08.580Z"
   },
   {
    "duration": 112,
    "start_time": "2021-11-24T13:18:20.880Z"
   },
   {
    "duration": 196,
    "start_time": "2021-11-24T13:18:28.721Z"
   },
   {
    "duration": 170,
    "start_time": "2021-11-24T13:20:25.363Z"
   },
   {
    "duration": 148,
    "start_time": "2021-11-24T13:20:51.781Z"
   },
   {
    "duration": 370,
    "start_time": "2021-11-24T13:21:56.322Z"
   },
   {
    "duration": 176,
    "start_time": "2021-11-24T13:22:13.943Z"
   },
   {
    "duration": 100,
    "start_time": "2021-11-24T13:27:28.269Z"
   },
   {
    "duration": 5,
    "start_time": "2021-11-24T13:27:36.041Z"
   },
   {
    "duration": 483,
    "start_time": "2021-11-24T13:27:42.861Z"
   },
   {
    "duration": 3,
    "start_time": "2021-11-24T13:29:15.220Z"
   },
   {
    "duration": 5,
    "start_time": "2021-11-24T13:29:18.901Z"
   },
   {
    "duration": 3,
    "start_time": "2021-11-24T13:29:19.640Z"
   },
   {
    "duration": 636,
    "start_time": "2021-11-24T13:34:28.101Z"
   },
   {
    "duration": 735,
    "start_time": "2021-11-24T13:34:33.620Z"
   },
   {
    "duration": 4,
    "start_time": "2021-11-24T13:34:39.540Z"
   },
   {
    "duration": 3,
    "start_time": "2021-11-24T13:34:42.700Z"
   },
   {
    "duration": 363,
    "start_time": "2021-11-24T13:35:13.147Z"
   },
   {
    "duration": 351,
    "start_time": "2021-11-24T13:35:38.081Z"
   },
   {
    "duration": 98,
    "start_time": "2021-11-24T13:35:43.560Z"
   },
   {
    "duration": 5,
    "start_time": "2021-11-24T13:35:47.122Z"
   },
   {
    "duration": 364,
    "start_time": "2021-11-24T13:35:48.633Z"
   },
   {
    "duration": 5,
    "start_time": "2021-11-24T13:48:25.694Z"
   },
   {
    "duration": 378,
    "start_time": "2021-11-24T13:48:26.824Z"
   },
   {
    "duration": 5,
    "start_time": "2021-11-24T14:00:36.053Z"
   },
   {
    "duration": 767,
    "start_time": "2021-11-24T14:00:36.409Z"
   },
   {
    "duration": 4,
    "start_time": "2021-11-24T14:04:57.160Z"
   },
   {
    "duration": 433,
    "start_time": "2021-11-24T14:04:57.166Z"
   },
   {
    "duration": 3,
    "start_time": "2021-11-24T14:21:16.281Z"
   },
   {
    "duration": 368,
    "start_time": "2021-11-24T14:21:16.286Z"
   },
   {
    "duration": 3151,
    "start_time": "2021-11-24T14:21:16.656Z"
   },
   {
    "duration": 193,
    "start_time": "2021-11-24T14:21:19.809Z"
   },
   {
    "duration": 121,
    "start_time": "2021-11-24T14:21:20.003Z"
   },
   {
    "duration": 5,
    "start_time": "2021-11-24T14:21:20.126Z"
   },
   {
    "duration": 377,
    "start_time": "2021-11-24T14:21:20.132Z"
   },
   {
    "duration": 609,
    "start_time": "2021-11-24T14:21:20.590Z"
   },
   {
    "duration": -145,
    "start_time": "2021-11-24T14:21:21.346Z"
   },
   {
    "duration": -150,
    "start_time": "2021-11-24T14:21:21.352Z"
   },
   {
    "duration": -151,
    "start_time": "2021-11-24T14:21:21.355Z"
   },
   {
    "duration": -153,
    "start_time": "2021-11-24T14:21:21.357Z"
   },
   {
    "duration": 4,
    "start_time": "2021-11-24T14:22:19.085Z"
   },
   {
    "duration": 352,
    "start_time": "2021-11-24T14:22:19.091Z"
   },
   {
    "duration": 3186,
    "start_time": "2021-11-24T14:22:19.444Z"
   },
   {
    "duration": 190,
    "start_time": "2021-11-24T14:22:22.632Z"
   },
   {
    "duration": 121,
    "start_time": "2021-11-24T14:22:22.824Z"
   },
   {
    "duration": 4,
    "start_time": "2021-11-24T14:22:22.947Z"
   },
   {
    "duration": 450,
    "start_time": "2021-11-24T14:22:22.954Z"
   },
   {
    "duration": 657,
    "start_time": "2021-11-24T14:22:23.407Z"
   },
   {
    "duration": -376,
    "start_time": "2021-11-24T14:22:24.441Z"
   },
   {
    "duration": -377,
    "start_time": "2021-11-24T14:22:24.443Z"
   },
   {
    "duration": -378,
    "start_time": "2021-11-24T14:22:24.445Z"
   },
   {
    "duration": -378,
    "start_time": "2021-11-24T14:22:24.446Z"
   },
   {
    "duration": 5,
    "start_time": "2021-11-24T14:23:16.366Z"
   },
   {
    "duration": 365,
    "start_time": "2021-11-24T14:23:16.373Z"
   },
   {
    "duration": 3129,
    "start_time": "2021-11-24T14:23:16.740Z"
   },
   {
    "duration": 193,
    "start_time": "2021-11-24T14:23:19.871Z"
   },
   {
    "duration": 132,
    "start_time": "2021-11-24T14:23:20.066Z"
   },
   {
    "duration": 4,
    "start_time": "2021-11-24T14:23:20.199Z"
   },
   {
    "duration": 471,
    "start_time": "2021-11-24T14:23:20.205Z"
   },
   {
    "duration": -112,
    "start_time": "2021-11-24T14:23:20.790Z"
   },
   {
    "duration": -117,
    "start_time": "2021-11-24T14:23:20.796Z"
   },
   {
    "duration": -154,
    "start_time": "2021-11-24T14:23:20.834Z"
   },
   {
    "duration": -162,
    "start_time": "2021-11-24T14:23:20.843Z"
   },
   {
    "duration": -164,
    "start_time": "2021-11-24T14:23:20.846Z"
   },
   {
    "duration": 374,
    "start_time": "2021-11-24T14:23:26.928Z"
   },
   {
    "duration": 411,
    "start_time": "2021-11-24T14:23:27.989Z"
   },
   {
    "duration": 88,
    "start_time": "2021-11-24T14:23:32.652Z"
   },
   {
    "duration": 3,
    "start_time": "2021-11-24T14:23:34.848Z"
   },
   {
    "duration": 4,
    "start_time": "2021-11-24T14:23:35.491Z"
   },
   {
    "duration": 9405,
    "start_time": "2021-11-24T14:23:37.249Z"
   },
   {
    "duration": 5,
    "start_time": "2021-11-24T14:26:56.438Z"
   },
   {
    "duration": 460,
    "start_time": "2021-11-24T14:26:56.444Z"
   },
   {
    "duration": 413,
    "start_time": "2021-11-24T14:26:58.189Z"
   },
   {
    "duration": 6,
    "start_time": "2021-11-24T14:27:00.715Z"
   },
   {
    "duration": 3,
    "start_time": "2021-11-24T14:27:02.348Z"
   },
   {
    "duration": 5,
    "start_time": "2021-11-24T14:27:02.730Z"
   },
   {
    "duration": 9551,
    "start_time": "2021-11-24T14:27:05.369Z"
   },
   {
    "duration": 5,
    "start_time": "2021-11-24T14:27:24.570Z"
   },
   {
    "duration": 9702,
    "start_time": "2021-11-24T14:27:24.731Z"
   },
   {
    "duration": 383,
    "start_time": "2021-11-24T14:34:59.617Z"
   },
   {
    "duration": 278,
    "start_time": "2021-11-24T14:35:12.428Z"
   },
   {
    "duration": 395,
    "start_time": "2021-11-24T14:37:01.608Z"
   },
   {
    "duration": 370,
    "start_time": "2021-11-24T14:37:58.628Z"
   },
   {
    "duration": 5,
    "start_time": "2021-11-24T14:39:40.748Z"
   },
   {
    "duration": 434,
    "start_time": "2021-11-24T14:39:41.268Z"
   },
   {
    "duration": 19,
    "start_time": "2021-11-24T14:39:52.270Z"
   },
   {
    "duration": 395,
    "start_time": "2021-11-24T14:39:53.508Z"
   },
   {
    "duration": 5,
    "start_time": "2021-11-24T14:43:54.392Z"
   },
   {
    "duration": 540,
    "start_time": "2021-11-24T14:43:54.749Z"
   },
   {
    "duration": 5,
    "start_time": "2021-11-24T14:44:02.944Z"
   },
   {
    "duration": 370,
    "start_time": "2021-11-24T14:44:03.236Z"
   },
   {
    "duration": 390,
    "start_time": "2021-11-24T14:59:20.292Z"
   },
   {
    "duration": 2057,
    "start_time": "2021-11-24T14:59:36.149Z"
   },
   {
    "duration": 2835,
    "start_time": "2021-11-24T15:00:01.492Z"
   },
   {
    "duration": 1297,
    "start_time": "2021-11-24T15:03:02.131Z"
   },
   {
    "duration": 517,
    "start_time": "2021-11-24T15:03:48.048Z"
   },
   {
    "duration": 1209,
    "start_time": "2021-11-24T15:04:01.690Z"
   },
   {
    "duration": 729,
    "start_time": "2021-11-24T15:04:48.643Z"
   },
   {
    "duration": 473,
    "start_time": "2021-11-24T15:05:05.317Z"
   },
   {
    "duration": 444,
    "start_time": "2021-11-24T15:05:24.648Z"
   },
   {
    "duration": 520,
    "start_time": "2021-11-24T15:05:32.476Z"
   },
   {
    "duration": 461,
    "start_time": "2021-11-24T15:05:37.134Z"
   },
   {
    "duration": 675,
    "start_time": "2021-11-24T15:06:01.470Z"
   },
   {
    "duration": 544,
    "start_time": "2021-11-24T15:06:07.448Z"
   },
   {
    "duration": 562,
    "start_time": "2021-11-24T15:06:12.130Z"
   },
   {
    "duration": 640,
    "start_time": "2021-11-24T15:06:28.748Z"
   },
   {
    "duration": 626,
    "start_time": "2021-11-24T15:06:31.770Z"
   },
   {
    "duration": 567,
    "start_time": "2021-11-24T15:06:39.528Z"
   },
   {
    "duration": 604,
    "start_time": "2021-11-24T15:06:47.590Z"
   },
   {
    "duration": 773,
    "start_time": "2021-11-24T15:07:40.669Z"
   },
   {
    "duration": 496,
    "start_time": "2021-11-24T15:07:51.095Z"
   },
   {
    "duration": 600,
    "start_time": "2021-11-24T15:08:17.089Z"
   },
   {
    "duration": 657,
    "start_time": "2021-11-24T15:08:42.217Z"
   },
   {
    "duration": 514,
    "start_time": "2021-11-24T15:08:49.876Z"
   },
   {
    "duration": 598,
    "start_time": "2021-11-24T15:09:01.890Z"
   },
   {
    "duration": 483,
    "start_time": "2021-11-24T15:09:23.308Z"
   },
   {
    "duration": 485,
    "start_time": "2021-11-24T15:09:39.409Z"
   },
   {
    "duration": 572,
    "start_time": "2021-11-24T15:10:12.717Z"
   },
   {
    "duration": 595,
    "start_time": "2021-11-24T15:10:24.495Z"
   },
   {
    "duration": 590,
    "start_time": "2021-11-24T15:10:49.698Z"
   },
   {
    "duration": 560,
    "start_time": "2021-11-24T15:11:01.032Z"
   },
   {
    "duration": 1452,
    "start_time": "2021-11-24T15:12:07.050Z"
   },
   {
    "duration": 1464,
    "start_time": "2021-11-24T15:16:17.690Z"
   },
   {
    "duration": 1413,
    "start_time": "2021-11-24T15:16:38.810Z"
   },
   {
    "duration": 1915,
    "start_time": "2021-11-24T15:16:59.554Z"
   },
   {
    "duration": 590,
    "start_time": "2021-11-24T15:17:09.100Z"
   },
   {
    "duration": 599,
    "start_time": "2021-11-24T15:17:20.690Z"
   },
   {
    "duration": 616,
    "start_time": "2021-11-24T15:17:46.271Z"
   },
   {
    "duration": 619,
    "start_time": "2021-11-24T15:18:05.870Z"
   },
   {
    "duration": 4,
    "start_time": "2021-11-24T15:22:28.386Z"
   },
   {
    "duration": 603,
    "start_time": "2021-11-24T15:22:28.791Z"
   },
   {
    "duration": 486,
    "start_time": "2021-11-24T15:22:47.010Z"
   },
   {
    "duration": 555,
    "start_time": "2021-11-24T15:22:52.434Z"
   },
   {
    "duration": 603,
    "start_time": "2021-11-24T15:24:08.089Z"
   },
   {
    "duration": 580,
    "start_time": "2021-11-24T15:25:03.909Z"
   },
   {
    "duration": 4,
    "start_time": "2021-11-24T15:30:48.697Z"
   },
   {
    "duration": 337,
    "start_time": "2021-11-24T15:30:48.703Z"
   },
   {
    "duration": 3195,
    "start_time": "2021-11-24T15:30:49.041Z"
   },
   {
    "duration": 211,
    "start_time": "2021-11-24T15:30:52.238Z"
   },
   {
    "duration": 118,
    "start_time": "2021-11-24T15:30:52.451Z"
   },
   {
    "duration": 17,
    "start_time": "2021-11-24T15:30:52.571Z"
   },
   {
    "duration": 598,
    "start_time": "2021-11-24T15:30:52.590Z"
   },
   {
    "duration": 5,
    "start_time": "2021-11-24T15:30:53.190Z"
   },
   {
    "duration": 11,
    "start_time": "2021-11-24T15:30:53.196Z"
   },
   {
    "duration": 12,
    "start_time": "2021-11-24T15:30:53.208Z"
   },
   {
    "duration": 1159,
    "start_time": "2021-11-24T18:51:19.242Z"
   },
   {
    "duration": 417,
    "start_time": "2021-11-24T18:51:20.404Z"
   },
   {
    "duration": 3469,
    "start_time": "2021-11-24T18:51:20.824Z"
   },
   {
    "duration": 272,
    "start_time": "2021-11-24T18:51:24.294Z"
   },
   {
    "duration": 146,
    "start_time": "2021-11-24T18:51:24.568Z"
   },
   {
    "duration": 5,
    "start_time": "2021-11-24T18:51:24.716Z"
   },
   {
    "duration": 586,
    "start_time": "2021-11-24T18:51:24.722Z"
   },
   {
    "duration": 6,
    "start_time": "2021-11-24T18:51:25.310Z"
   },
   {
    "duration": 15,
    "start_time": "2021-11-24T18:51:25.318Z"
   },
   {
    "duration": 16,
    "start_time": "2021-11-24T18:51:25.335Z"
   },
   {
    "duration": 10704,
    "start_time": "2021-11-24T18:51:25.353Z"
   },
   {
    "duration": 4,
    "start_time": "2021-11-24T19:12:53.051Z"
   },
   {
    "duration": 6,
    "start_time": "2021-11-24T19:13:03.767Z"
   },
   {
    "duration": 409,
    "start_time": "2021-11-24T19:13:15.783Z"
   },
   {
    "duration": 329,
    "start_time": "2021-11-24T19:13:34.766Z"
   },
   {
    "duration": 8,
    "start_time": "2021-11-24T19:13:51.045Z"
   },
   {
    "duration": 7,
    "start_time": "2021-11-24T19:14:01.668Z"
   },
   {
    "duration": 5,
    "start_time": "2021-11-24T19:14:14.291Z"
   },
   {
    "duration": 10,
    "start_time": "2021-11-24T19:14:25.904Z"
   },
   {
    "duration": 4,
    "start_time": "2021-11-24T19:21:05.361Z"
   },
   {
    "duration": 439,
    "start_time": "2021-11-24T19:21:05.367Z"
   },
   {
    "duration": 3812,
    "start_time": "2021-11-24T19:21:05.809Z"
   },
   {
    "duration": 249,
    "start_time": "2021-11-24T19:21:09.623Z"
   },
   {
    "duration": 147,
    "start_time": "2021-11-24T19:21:09.874Z"
   },
   {
    "duration": 6,
    "start_time": "2021-11-24T19:21:10.023Z"
   },
   {
    "duration": 584,
    "start_time": "2021-11-24T19:21:10.032Z"
   },
   {
    "duration": 5,
    "start_time": "2021-11-24T19:21:10.618Z"
   },
   {
    "duration": 14,
    "start_time": "2021-11-24T19:21:10.624Z"
   },
   {
    "duration": 18,
    "start_time": "2021-11-24T19:21:10.640Z"
   },
   {
    "duration": 11647,
    "start_time": "2021-11-24T19:21:10.659Z"
   },
   {
    "duration": 930,
    "start_time": "2021-11-24T19:28:58.053Z"
   },
   {
    "duration": 1295,
    "start_time": "2021-11-24T19:29:49.650Z"
   },
   {
    "duration": 11364,
    "start_time": "2021-11-24T19:39:45.463Z"
   },
   {
    "duration": 621,
    "start_time": "2021-11-24T19:43:11.394Z"
   },
   {
    "duration": 10944,
    "start_time": "2021-11-24T19:56:00.864Z"
   },
   {
    "duration": 3845,
    "start_time": "2021-11-24T19:56:35.560Z"
   },
   {
    "duration": 3736,
    "start_time": "2021-11-24T19:56:47.134Z"
   },
   {
    "duration": 5,
    "start_time": "2021-11-24T19:57:25.434Z"
   },
   {
    "duration": 10686,
    "start_time": "2021-11-24T19:57:25.727Z"
   },
   {
    "duration": 6,
    "start_time": "2021-11-24T19:58:23.502Z"
   },
   {
    "duration": 10572,
    "start_time": "2021-11-24T19:58:24.385Z"
   },
   {
    "duration": 5,
    "start_time": "2021-11-24T19:59:35.752Z"
   },
   {
    "duration": 10548,
    "start_time": "2021-11-24T19:59:36.016Z"
   },
   {
    "duration": 6,
    "start_time": "2021-11-24T20:00:18.822Z"
   },
   {
    "duration": 11333,
    "start_time": "2021-11-24T20:00:19.063Z"
   },
   {
    "duration": 6,
    "start_time": "2021-11-24T20:01:34.498Z"
   },
   {
    "duration": 10325,
    "start_time": "2021-11-24T20:02:44.841Z"
   },
   {
    "duration": 10497,
    "start_time": "2021-11-24T20:04:15.952Z"
   },
   {
    "duration": 3824,
    "start_time": "2021-11-24T20:25:48.404Z"
   },
   {
    "duration": 3835,
    "start_time": "2021-11-24T20:26:06.081Z"
   },
   {
    "duration": 3747,
    "start_time": "2021-11-24T20:27:46.260Z"
   },
   {
    "duration": 11514,
    "start_time": "2021-11-24T20:28:47.374Z"
   },
   {
    "duration": 10610,
    "start_time": "2021-11-24T20:29:11.364Z"
   },
   {
    "duration": 6,
    "start_time": "2021-11-24T20:30:07.508Z"
   },
   {
    "duration": 3973,
    "start_time": "2021-11-24T20:30:08.090Z"
   },
   {
    "duration": 6,
    "start_time": "2021-11-24T20:30:34.185Z"
   },
   {
    "duration": 10484,
    "start_time": "2021-11-24T20:30:34.671Z"
   },
   {
    "duration": 5,
    "start_time": "2021-11-24T20:31:00.077Z"
   },
   {
    "duration": 11172,
    "start_time": "2021-11-24T20:31:00.338Z"
   },
   {
    "duration": 10406,
    "start_time": "2021-11-24T20:31:22.936Z"
   },
   {
    "duration": 12560,
    "start_time": "2021-11-24T20:31:47.117Z"
   },
   {
    "duration": 4095,
    "start_time": "2021-11-24T20:33:47.857Z"
   },
   {
    "duration": 7,
    "start_time": "2021-11-24T20:33:52.818Z"
   },
   {
    "duration": 11262,
    "start_time": "2021-11-24T20:33:54.729Z"
   },
   {
    "duration": 963,
    "start_time": "2021-11-24T20:35:07.595Z"
   },
   {
    "duration": 10445,
    "start_time": "2021-11-24T20:35:31.079Z"
   },
   {
    "duration": 723,
    "start_time": "2021-11-24T20:45:44.654Z"
   },
   {
    "duration": 881,
    "start_time": "2021-11-24T20:50:16.225Z"
   },
   {
    "duration": 903,
    "start_time": "2021-11-24T20:50:20.996Z"
   },
   {
    "duration": 1641,
    "start_time": "2021-11-24T20:52:37.449Z"
   },
   {
    "duration": 1581,
    "start_time": "2021-11-24T20:52:53.628Z"
   },
   {
    "duration": 1909,
    "start_time": "2021-11-24T20:53:26.705Z"
   },
   {
    "duration": 1742,
    "start_time": "2021-11-24T20:53:32.762Z"
   },
   {
    "duration": 1551,
    "start_time": "2021-11-24T20:54:19.031Z"
   },
   {
    "duration": 1395,
    "start_time": "2021-11-24T20:54:27.873Z"
   },
   {
    "duration": 1589,
    "start_time": "2021-11-24T20:54:56.046Z"
   },
   {
    "duration": 1484,
    "start_time": "2021-11-24T20:55:11.587Z"
   },
   {
    "duration": 1634,
    "start_time": "2021-11-24T20:55:23.108Z"
   },
   {
    "duration": 1466,
    "start_time": "2021-11-24T20:55:39.992Z"
   },
   {
    "duration": 10851,
    "start_time": "2021-11-24T21:38:07.117Z"
   },
   {
    "duration": 10636,
    "start_time": "2021-11-24T21:56:33.848Z"
   },
   {
    "duration": 10712,
    "start_time": "2021-11-24T21:58:10.504Z"
   },
   {
    "duration": 164,
    "start_time": "2021-11-24T22:11:21.331Z"
   },
   {
    "duration": 119,
    "start_time": "2021-11-24T22:11:28.985Z"
   },
   {
    "duration": 123,
    "start_time": "2021-11-24T22:11:35.702Z"
   },
   {
    "duration": 106,
    "start_time": "2021-11-24T22:11:45.362Z"
   },
   {
    "duration": 107,
    "start_time": "2021-11-24T22:11:57.687Z"
   },
   {
    "duration": 110,
    "start_time": "2021-11-24T22:12:12.685Z"
   },
   {
    "duration": 6,
    "start_time": "2021-11-24T22:12:22.299Z"
   },
   {
    "duration": 11078,
    "start_time": "2021-11-24T22:12:24.244Z"
   },
   {
    "duration": 6,
    "start_time": "2021-11-24T22:12:48.420Z"
   },
   {
    "duration": 11075,
    "start_time": "2021-11-24T22:12:49.944Z"
   },
   {
    "duration": 4224,
    "start_time": "2021-11-24T22:14:27.307Z"
   },
   {
    "duration": 4174,
    "start_time": "2021-11-24T22:14:56.009Z"
   },
   {
    "duration": 4451,
    "start_time": "2021-11-24T22:15:08.396Z"
   },
   {
    "duration": 7,
    "start_time": "2021-11-24T22:16:26.435Z"
   },
   {
    "duration": 3915,
    "start_time": "2021-11-24T22:16:27.086Z"
   },
   {
    "duration": 7,
    "start_time": "2021-11-24T22:17:08.106Z"
   },
   {
    "duration": 11450,
    "start_time": "2021-11-24T22:17:08.450Z"
   },
   {
    "duration": 13082,
    "start_time": "2021-11-24T22:17:26.375Z"
   },
   {
    "duration": 10736,
    "start_time": "2021-11-24T22:18:21.115Z"
   },
   {
    "duration": 11176,
    "start_time": "2021-11-24T22:18:39.141Z"
   },
   {
    "duration": 4,
    "start_time": "2021-11-24T22:22:07.468Z"
   },
   {
    "duration": 435,
    "start_time": "2021-11-24T22:22:07.475Z"
   },
   {
    "duration": 3467,
    "start_time": "2021-11-24T22:22:07.912Z"
   },
   {
    "duration": 253,
    "start_time": "2021-11-24T22:22:11.381Z"
   },
   {
    "duration": 141,
    "start_time": "2021-11-24T22:22:11.636Z"
   },
   {
    "duration": 4,
    "start_time": "2021-11-24T22:22:11.779Z"
   },
   {
    "duration": 1664,
    "start_time": "2021-11-24T22:22:11.785Z"
   },
   {
    "duration": 6,
    "start_time": "2021-11-24T22:22:13.451Z"
   },
   {
    "duration": 9,
    "start_time": "2021-11-24T22:22:13.458Z"
   },
   {
    "duration": 10272,
    "start_time": "2021-11-24T22:22:13.468Z"
   },
   {
    "duration": 433,
    "start_time": "2021-11-24T22:25:15.562Z"
   },
   {
    "duration": 402,
    "start_time": "2021-11-24T22:25:37.239Z"
   },
   {
    "duration": 768,
    "start_time": "2021-11-24T22:25:46.041Z"
   },
   {
    "duration": 419,
    "start_time": "2021-11-24T22:25:51.303Z"
   },
   {
    "duration": 111,
    "start_time": "2021-11-24T22:26:01.124Z"
   },
   {
    "duration": 139,
    "start_time": "2021-11-24T22:26:03.598Z"
   },
   {
    "duration": 408,
    "start_time": "2021-11-24T22:26:06.243Z"
   },
   {
    "duration": 411,
    "start_time": "2021-11-24T22:26:22.913Z"
   },
   {
    "duration": 227,
    "start_time": "2021-11-24T22:28:26.162Z"
   },
   {
    "duration": 198,
    "start_time": "2021-11-24T22:28:36.610Z"
   },
   {
    "duration": 760,
    "start_time": "2021-11-24T22:29:06.560Z"
   },
   {
    "duration": 384,
    "start_time": "2021-11-24T22:29:12.967Z"
   },
   {
    "duration": 376,
    "start_time": "2021-11-24T22:29:48.872Z"
   },
   {
    "duration": 54,
    "start_time": "2021-11-24T22:30:11.440Z"
   },
   {
    "duration": 380,
    "start_time": "2021-11-24T22:30:27.951Z"
   },
   {
    "duration": 55,
    "start_time": "2021-11-24T22:30:34.408Z"
   },
   {
    "duration": 385,
    "start_time": "2021-11-24T22:31:07.640Z"
   },
   {
    "duration": 378,
    "start_time": "2021-11-24T22:31:15.180Z"
   },
   {
    "duration": 117,
    "start_time": "2021-11-24T22:31:24.663Z"
   },
   {
    "duration": 176,
    "start_time": "2021-11-24T22:31:59.178Z"
   },
   {
    "duration": 58,
    "start_time": "2021-11-24T22:32:04.941Z"
   },
   {
    "duration": 119,
    "start_time": "2021-11-24T22:32:13.460Z"
   },
   {
    "duration": 4,
    "start_time": "2021-11-24T22:32:52.440Z"
   },
   {
    "duration": 386,
    "start_time": "2021-11-24T22:32:52.446Z"
   },
   {
    "duration": 3533,
    "start_time": "2021-11-24T22:32:52.834Z"
   },
   {
    "duration": 242,
    "start_time": "2021-11-24T22:32:56.368Z"
   },
   {
    "duration": 136,
    "start_time": "2021-11-24T22:32:56.611Z"
   },
   {
    "duration": 5,
    "start_time": "2021-11-24T22:32:56.749Z"
   },
   {
    "duration": 1715,
    "start_time": "2021-11-24T22:32:56.756Z"
   },
   {
    "duration": 5,
    "start_time": "2021-11-24T22:32:58.473Z"
   },
   {
    "duration": 11,
    "start_time": "2021-11-24T22:32:58.480Z"
   },
   {
    "duration": 10570,
    "start_time": "2021-11-24T22:32:58.493Z"
   },
   {
    "duration": 10596,
    "start_time": "2021-11-24T22:34:39.153Z"
   },
   {
    "duration": 1263,
    "start_time": "2021-11-25T07:55:03.279Z"
   },
   {
    "duration": 740,
    "start_time": "2021-11-25T07:55:04.544Z"
   },
   {
    "duration": 5226,
    "start_time": "2021-11-25T08:18:47.458Z"
   },
   {
    "duration": 391,
    "start_time": "2021-11-25T08:18:59.334Z"
   },
   {
    "duration": 276,
    "start_time": "2021-11-25T08:19:08.840Z"
   },
   {
    "duration": 5,
    "start_time": "2021-11-25T08:19:12.424Z"
   },
   {
    "duration": 905,
    "start_time": "2021-11-25T08:19:13.117Z"
   },
   {
    "duration": 6,
    "start_time": "2021-11-25T08:19:15.121Z"
   },
   {
    "duration": 6,
    "start_time": "2021-11-25T08:19:15.953Z"
   },
   {
    "duration": 10904,
    "start_time": "2021-11-25T08:19:16.159Z"
   },
   {
    "duration": 3,
    "start_time": "2021-11-25T08:20:03.313Z"
   },
   {
    "duration": 1646,
    "start_time": "2021-11-25T08:20:04.870Z"
   },
   {
    "duration": 1582,
    "start_time": "2021-11-25T08:20:45.054Z"
   },
   {
    "duration": 401,
    "start_time": "2021-11-25T08:37:17.143Z"
   },
   {
    "duration": 1808,
    "start_time": "2021-11-25T08:37:20.466Z"
   },
   {
    "duration": 690,
    "start_time": "2021-11-25T08:37:22.278Z"
   },
   {
    "duration": 5,
    "start_time": "2021-11-25T08:43:14.652Z"
   },
   {
    "duration": 559,
    "start_time": "2021-11-25T08:43:14.660Z"
   },
   {
    "duration": 5886,
    "start_time": "2021-11-25T08:43:15.223Z"
   },
   {
    "duration": 479,
    "start_time": "2021-11-25T08:43:21.112Z"
   },
   {
    "duration": 216,
    "start_time": "2021-11-25T08:43:21.594Z"
   },
   {
    "duration": 8,
    "start_time": "2021-11-25T08:43:21.812Z"
   },
   {
    "duration": 2307,
    "start_time": "2021-11-25T08:43:21.822Z"
   },
   {
    "duration": 7,
    "start_time": "2021-11-25T08:43:24.133Z"
   },
   {
    "duration": 9,
    "start_time": "2021-11-25T08:43:24.143Z"
   },
   {
    "duration": 18489,
    "start_time": "2021-11-25T08:43:24.154Z"
   },
   {
    "duration": 116,
    "start_time": "2021-11-25T08:48:24.439Z"
   },
   {
    "duration": 145,
    "start_time": "2021-11-25T08:49:34.775Z"
   }
  ],
  "kernelspec": {
   "display_name": "Python 3",
   "language": "python",
   "name": "python3"
  },
  "language_info": {
   "codemirror_mode": {
    "name": "ipython",
    "version": 3
   },
   "file_extension": ".py",
   "mimetype": "text/x-python",
   "name": "python",
   "nbconvert_exporter": "python",
   "pygments_lexer": "ipython3",
   "version": "3.8.8"
  },
  "toc": {
   "base_numbering": 1,
   "nav_menu": {},
   "number_sections": false,
   "sideBar": true,
   "skip_h1_title": true,
   "title_cell": "Table of Contents",
   "title_sidebar": "Contents",
   "toc_cell": false,
   "toc_position": {
    "height": "calc(100% - 180px)",
    "left": "10px",
    "top": "150px",
    "width": "391.883px"
   },
   "toc_section_display": true,
   "toc_window_display": true
  }
 },
 "nbformat": 4,
 "nbformat_minor": 2
}
